{
 "cells": [
  {
   "cell_type": "markdown",
   "metadata": {},
   "source": [
    "# Kernel Density Estimation"
   ]
  },
  {
   "cell_type": "code",
   "execution_count": 1,
   "metadata": {},
   "outputs": [],
   "source": [
    "%load_ext autoreload\n",
    "%autoreload 2"
   ]
  },
  {
   "cell_type": "code",
   "execution_count": 80,
   "metadata": {},
   "outputs": [],
   "source": [
    "from DoTLMViz import CkptedTransformer\n",
    "from transformers import GPT2Tokenizer\n",
    "from rich import print\n",
    "\n",
    "import torch\n",
    "import matplotlib.pyplot as plt"
   ]
  },
  {
   "cell_type": "code",
   "execution_count": 3,
   "metadata": {},
   "outputs": [],
   "source": [
    "model = CkptedTransformer.from_pretrained(\"gpt2-small\")"
   ]
  },
  {
   "cell_type": "code",
   "execution_count": 4,
   "metadata": {},
   "outputs": [
    {
     "name": "stderr",
     "output_type": "stream",
     "text": [
      "c:\\Users\\NITRO5\\miniconda3\\Lib\\site-packages\\transformers\\tokenization_utils_base.py:1601: FutureWarning: `clean_up_tokenization_spaces` was not set. It will be set to `True` by default. This behavior will be depracted in transformers v4.45, and will be then set to `False` by default. For more details check this issue: https://github.com/huggingface/transformers/issues/31884\n",
      "  warnings.warn(\n"
     ]
    }
   ],
   "source": [
    "tokenizer = GPT2Tokenizer.from_pretrained(\"gpt2\")"
   ]
  },
  {
   "cell_type": "code",
   "execution_count": 5,
   "metadata": {},
   "outputs": [],
   "source": [
    "text = \"alpha beta gamma delta epsilon eta zeta\"\n",
    "tokens = tokenizer(text, return_tensors=\"pt\")[\"input_ids\"]"
   ]
  },
  {
   "cell_type": "code",
   "execution_count": 14,
   "metadata": {},
   "outputs": [],
   "source": [
    "logits, ckpts = model.run_with_ckpts(tokens)"
   ]
  },
  {
   "cell_type": "code",
   "execution_count": 15,
   "metadata": {},
   "outputs": [
    {
     "data": {
      "text/html": [
       "<pre style=\"white-space:pre;overflow-x:auto;line-height:normal;font-family:Menlo,'DejaVu Sans Mono',consolas,'Courier New',monospace\"><span style=\"color: #800080; text-decoration-color: #800080; font-weight: bold\">dict_keys</span><span style=\"font-weight: bold\">([</span><span style=\"color: #008000; text-decoration-color: #008000\">'ckpt_embed'</span>, <span style=\"color: #008000; text-decoration-color: #008000\">'ckpt_pos_embed'</span>, <span style=\"color: #008000; text-decoration-color: #008000\">'blocks.0.ckpt_resid_pre'</span>, <span style=\"color: #008000; text-decoration-color: #008000\">'blocks.0.ln1.ckpt_scaled'</span>, \n",
       "<span style=\"color: #008000; text-decoration-color: #008000\">'blocks.0.ln1.ckpt_normalized'</span>, <span style=\"color: #008000; text-decoration-color: #008000\">'blocks.0.attn.ckpt_q'</span>, <span style=\"color: #008000; text-decoration-color: #008000\">'blocks.0.attn.ckpt_k'</span>, <span style=\"color: #008000; text-decoration-color: #008000\">'blocks.0.attn.ckpt_v'</span>, \n",
       "<span style=\"color: #008000; text-decoration-color: #008000\">'blocks.0.attn.ckpt_scores'</span>, <span style=\"color: #008000; text-decoration-color: #008000\">'blocks.0.attn.ckpt_pattern'</span>, <span style=\"color: #008000; text-decoration-color: #008000\">'blocks.0.attn.ckpt_z'</span>, <span style=\"color: #008000; text-decoration-color: #008000\">'blocks.0.attn.ckpt_attn_out'</span>, \n",
       "<span style=\"color: #008000; text-decoration-color: #008000\">'blocks.0.ckpt_resid_mid'</span>, <span style=\"color: #008000; text-decoration-color: #008000\">'blocks.0.ln2.ckpt_scaled'</span>, <span style=\"color: #008000; text-decoration-color: #008000\">'blocks.0.ln2.ckpt_normalized'</span>, <span style=\"color: #008000; text-decoration-color: #008000\">'blocks.0.mlp.ckpt_pre'</span>, \n",
       "<span style=\"color: #008000; text-decoration-color: #008000\">'blocks.0.mlp.ckpt_post'</span>, <span style=\"color: #008000; text-decoration-color: #008000\">'blocks.0.mlp.ckpt_mlp_out'</span>, <span style=\"color: #008000; text-decoration-color: #008000\">'blocks.0.ckpt_resid_post'</span>, <span style=\"color: #008000; text-decoration-color: #008000\">'blocks.1.ckpt_resid_pre'</span>, \n",
       "<span style=\"color: #008000; text-decoration-color: #008000\">'blocks.1.ln1.ckpt_scaled'</span>, <span style=\"color: #008000; text-decoration-color: #008000\">'blocks.1.ln1.ckpt_normalized'</span>, <span style=\"color: #008000; text-decoration-color: #008000\">'blocks.1.attn.ckpt_q'</span>, <span style=\"color: #008000; text-decoration-color: #008000\">'blocks.1.attn.ckpt_k'</span>, \n",
       "<span style=\"color: #008000; text-decoration-color: #008000\">'blocks.1.attn.ckpt_v'</span>, <span style=\"color: #008000; text-decoration-color: #008000\">'blocks.1.attn.ckpt_scores'</span>, <span style=\"color: #008000; text-decoration-color: #008000\">'blocks.1.attn.ckpt_pattern'</span>, <span style=\"color: #008000; text-decoration-color: #008000\">'blocks.1.attn.ckpt_z'</span>, \n",
       "<span style=\"color: #008000; text-decoration-color: #008000\">'blocks.1.attn.ckpt_attn_out'</span>, <span style=\"color: #008000; text-decoration-color: #008000\">'blocks.1.ckpt_resid_mid'</span>, <span style=\"color: #008000; text-decoration-color: #008000\">'blocks.1.ln2.ckpt_scaled'</span>, \n",
       "<span style=\"color: #008000; text-decoration-color: #008000\">'blocks.1.ln2.ckpt_normalized'</span>, <span style=\"color: #008000; text-decoration-color: #008000\">'blocks.1.mlp.ckpt_pre'</span>, <span style=\"color: #008000; text-decoration-color: #008000\">'blocks.1.mlp.ckpt_post'</span>, <span style=\"color: #008000; text-decoration-color: #008000\">'blocks.1.mlp.ckpt_mlp_out'</span>, \n",
       "<span style=\"color: #008000; text-decoration-color: #008000\">'blocks.1.ckpt_resid_post'</span>, <span style=\"color: #008000; text-decoration-color: #008000\">'blocks.2.ckpt_resid_pre'</span>, <span style=\"color: #008000; text-decoration-color: #008000\">'blocks.2.ln1.ckpt_scaled'</span>, <span style=\"color: #008000; text-decoration-color: #008000\">'blocks.2.ln1.ckpt_normalized'</span>, \n",
       "<span style=\"color: #008000; text-decoration-color: #008000\">'blocks.2.attn.ckpt_q'</span>, <span style=\"color: #008000; text-decoration-color: #008000\">'blocks.2.attn.ckpt_k'</span>, <span style=\"color: #008000; text-decoration-color: #008000\">'blocks.2.attn.ckpt_v'</span>, <span style=\"color: #008000; text-decoration-color: #008000\">'blocks.2.attn.ckpt_scores'</span>, \n",
       "<span style=\"color: #008000; text-decoration-color: #008000\">'blocks.2.attn.ckpt_pattern'</span>, <span style=\"color: #008000; text-decoration-color: #008000\">'blocks.2.attn.ckpt_z'</span>, <span style=\"color: #008000; text-decoration-color: #008000\">'blocks.2.attn.ckpt_attn_out'</span>, <span style=\"color: #008000; text-decoration-color: #008000\">'blocks.2.ckpt_resid_mid'</span>, \n",
       "<span style=\"color: #008000; text-decoration-color: #008000\">'blocks.2.ln2.ckpt_scaled'</span>, <span style=\"color: #008000; text-decoration-color: #008000\">'blocks.2.ln2.ckpt_normalized'</span>, <span style=\"color: #008000; text-decoration-color: #008000\">'blocks.2.mlp.ckpt_pre'</span>, <span style=\"color: #008000; text-decoration-color: #008000\">'blocks.2.mlp.ckpt_post'</span>, \n",
       "<span style=\"color: #008000; text-decoration-color: #008000\">'blocks.2.mlp.ckpt_mlp_out'</span>, <span style=\"color: #008000; text-decoration-color: #008000\">'blocks.2.ckpt_resid_post'</span>, <span style=\"color: #008000; text-decoration-color: #008000\">'blocks.3.ckpt_resid_pre'</span>, <span style=\"color: #008000; text-decoration-color: #008000\">'blocks.3.ln1.ckpt_scaled'</span>, \n",
       "<span style=\"color: #008000; text-decoration-color: #008000\">'blocks.3.ln1.ckpt_normalized'</span>, <span style=\"color: #008000; text-decoration-color: #008000\">'blocks.3.attn.ckpt_q'</span>, <span style=\"color: #008000; text-decoration-color: #008000\">'blocks.3.attn.ckpt_k'</span>, <span style=\"color: #008000; text-decoration-color: #008000\">'blocks.3.attn.ckpt_v'</span>, \n",
       "<span style=\"color: #008000; text-decoration-color: #008000\">'blocks.3.attn.ckpt_scores'</span>, <span style=\"color: #008000; text-decoration-color: #008000\">'blocks.3.attn.ckpt_pattern'</span>, <span style=\"color: #008000; text-decoration-color: #008000\">'blocks.3.attn.ckpt_z'</span>, <span style=\"color: #008000; text-decoration-color: #008000\">'blocks.3.attn.ckpt_attn_out'</span>, \n",
       "<span style=\"color: #008000; text-decoration-color: #008000\">'blocks.3.ckpt_resid_mid'</span>, <span style=\"color: #008000; text-decoration-color: #008000\">'blocks.3.ln2.ckpt_scaled'</span>, <span style=\"color: #008000; text-decoration-color: #008000\">'blocks.3.ln2.ckpt_normalized'</span>, <span style=\"color: #008000; text-decoration-color: #008000\">'blocks.3.mlp.ckpt_pre'</span>, \n",
       "<span style=\"color: #008000; text-decoration-color: #008000\">'blocks.3.mlp.ckpt_post'</span>, <span style=\"color: #008000; text-decoration-color: #008000\">'blocks.3.mlp.ckpt_mlp_out'</span>, <span style=\"color: #008000; text-decoration-color: #008000\">'blocks.3.ckpt_resid_post'</span>, <span style=\"color: #008000; text-decoration-color: #008000\">'blocks.4.ckpt_resid_pre'</span>, \n",
       "<span style=\"color: #008000; text-decoration-color: #008000\">'blocks.4.ln1.ckpt_scaled'</span>, <span style=\"color: #008000; text-decoration-color: #008000\">'blocks.4.ln1.ckpt_normalized'</span>, <span style=\"color: #008000; text-decoration-color: #008000\">'blocks.4.attn.ckpt_q'</span>, <span style=\"color: #008000; text-decoration-color: #008000\">'blocks.4.attn.ckpt_k'</span>, \n",
       "<span style=\"color: #008000; text-decoration-color: #008000\">'blocks.4.attn.ckpt_v'</span>, <span style=\"color: #008000; text-decoration-color: #008000\">'blocks.4.attn.ckpt_scores'</span>, <span style=\"color: #008000; text-decoration-color: #008000\">'blocks.4.attn.ckpt_pattern'</span>, <span style=\"color: #008000; text-decoration-color: #008000\">'blocks.4.attn.ckpt_z'</span>, \n",
       "<span style=\"color: #008000; text-decoration-color: #008000\">'blocks.4.attn.ckpt_attn_out'</span>, <span style=\"color: #008000; text-decoration-color: #008000\">'blocks.4.ckpt_resid_mid'</span>, <span style=\"color: #008000; text-decoration-color: #008000\">'blocks.4.ln2.ckpt_scaled'</span>, \n",
       "<span style=\"color: #008000; text-decoration-color: #008000\">'blocks.4.ln2.ckpt_normalized'</span>, <span style=\"color: #008000; text-decoration-color: #008000\">'blocks.4.mlp.ckpt_pre'</span>, <span style=\"color: #008000; text-decoration-color: #008000\">'blocks.4.mlp.ckpt_post'</span>, <span style=\"color: #008000; text-decoration-color: #008000\">'blocks.4.mlp.ckpt_mlp_out'</span>, \n",
       "<span style=\"color: #008000; text-decoration-color: #008000\">'blocks.4.ckpt_resid_post'</span>, <span style=\"color: #008000; text-decoration-color: #008000\">'blocks.5.ckpt_resid_pre'</span>, <span style=\"color: #008000; text-decoration-color: #008000\">'blocks.5.ln1.ckpt_scaled'</span>, <span style=\"color: #008000; text-decoration-color: #008000\">'blocks.5.ln1.ckpt_normalized'</span>, \n",
       "<span style=\"color: #008000; text-decoration-color: #008000\">'blocks.5.attn.ckpt_q'</span>, <span style=\"color: #008000; text-decoration-color: #008000\">'blocks.5.attn.ckpt_k'</span>, <span style=\"color: #008000; text-decoration-color: #008000\">'blocks.5.attn.ckpt_v'</span>, <span style=\"color: #008000; text-decoration-color: #008000\">'blocks.5.attn.ckpt_scores'</span>, \n",
       "<span style=\"color: #008000; text-decoration-color: #008000\">'blocks.5.attn.ckpt_pattern'</span>, <span style=\"color: #008000; text-decoration-color: #008000\">'blocks.5.attn.ckpt_z'</span>, <span style=\"color: #008000; text-decoration-color: #008000\">'blocks.5.attn.ckpt_attn_out'</span>, <span style=\"color: #008000; text-decoration-color: #008000\">'blocks.5.ckpt_resid_mid'</span>, \n",
       "<span style=\"color: #008000; text-decoration-color: #008000\">'blocks.5.ln2.ckpt_scaled'</span>, <span style=\"color: #008000; text-decoration-color: #008000\">'blocks.5.ln2.ckpt_normalized'</span>, <span style=\"color: #008000; text-decoration-color: #008000\">'blocks.5.mlp.ckpt_pre'</span>, <span style=\"color: #008000; text-decoration-color: #008000\">'blocks.5.mlp.ckpt_post'</span>, \n",
       "<span style=\"color: #008000; text-decoration-color: #008000\">'blocks.5.mlp.ckpt_mlp_out'</span>, <span style=\"color: #008000; text-decoration-color: #008000\">'blocks.5.ckpt_resid_post'</span>, <span style=\"color: #008000; text-decoration-color: #008000\">'blocks.6.ckpt_resid_pre'</span>, <span style=\"color: #008000; text-decoration-color: #008000\">'blocks.6.ln1.ckpt_scaled'</span>, \n",
       "<span style=\"color: #008000; text-decoration-color: #008000\">'blocks.6.ln1.ckpt_normalized'</span>, <span style=\"color: #008000; text-decoration-color: #008000\">'blocks.6.attn.ckpt_q'</span>, <span style=\"color: #008000; text-decoration-color: #008000\">'blocks.6.attn.ckpt_k'</span>, <span style=\"color: #008000; text-decoration-color: #008000\">'blocks.6.attn.ckpt_v'</span>, \n",
       "<span style=\"color: #008000; text-decoration-color: #008000\">'blocks.6.attn.ckpt_scores'</span>, <span style=\"color: #008000; text-decoration-color: #008000\">'blocks.6.attn.ckpt_pattern'</span>, <span style=\"color: #008000; text-decoration-color: #008000\">'blocks.6.attn.ckpt_z'</span>, <span style=\"color: #008000; text-decoration-color: #008000\">'blocks.6.attn.ckpt_attn_out'</span>, \n",
       "<span style=\"color: #008000; text-decoration-color: #008000\">'blocks.6.ckpt_resid_mid'</span>, <span style=\"color: #008000; text-decoration-color: #008000\">'blocks.6.ln2.ckpt_scaled'</span>, <span style=\"color: #008000; text-decoration-color: #008000\">'blocks.6.ln2.ckpt_normalized'</span>, <span style=\"color: #008000; text-decoration-color: #008000\">'blocks.6.mlp.ckpt_pre'</span>, \n",
       "<span style=\"color: #008000; text-decoration-color: #008000\">'blocks.6.mlp.ckpt_post'</span>, <span style=\"color: #008000; text-decoration-color: #008000\">'blocks.6.mlp.ckpt_mlp_out'</span>, <span style=\"color: #008000; text-decoration-color: #008000\">'blocks.6.ckpt_resid_post'</span>, <span style=\"color: #008000; text-decoration-color: #008000\">'blocks.7.ckpt_resid_pre'</span>, \n",
       "<span style=\"color: #008000; text-decoration-color: #008000\">'blocks.7.ln1.ckpt_scaled'</span>, <span style=\"color: #008000; text-decoration-color: #008000\">'blocks.7.ln1.ckpt_normalized'</span>, <span style=\"color: #008000; text-decoration-color: #008000\">'blocks.7.attn.ckpt_q'</span>, <span style=\"color: #008000; text-decoration-color: #008000\">'blocks.7.attn.ckpt_k'</span>, \n",
       "<span style=\"color: #008000; text-decoration-color: #008000\">'blocks.7.attn.ckpt_v'</span>, <span style=\"color: #008000; text-decoration-color: #008000\">'blocks.7.attn.ckpt_scores'</span>, <span style=\"color: #008000; text-decoration-color: #008000\">'blocks.7.attn.ckpt_pattern'</span>, <span style=\"color: #008000; text-decoration-color: #008000\">'blocks.7.attn.ckpt_z'</span>, \n",
       "<span style=\"color: #008000; text-decoration-color: #008000\">'blocks.7.attn.ckpt_attn_out'</span>, <span style=\"color: #008000; text-decoration-color: #008000\">'blocks.7.ckpt_resid_mid'</span>, <span style=\"color: #008000; text-decoration-color: #008000\">'blocks.7.ln2.ckpt_scaled'</span>, \n",
       "<span style=\"color: #008000; text-decoration-color: #008000\">'blocks.7.ln2.ckpt_normalized'</span>, <span style=\"color: #008000; text-decoration-color: #008000\">'blocks.7.mlp.ckpt_pre'</span>, <span style=\"color: #008000; text-decoration-color: #008000\">'blocks.7.mlp.ckpt_post'</span>, <span style=\"color: #008000; text-decoration-color: #008000\">'blocks.7.mlp.ckpt_mlp_out'</span>, \n",
       "<span style=\"color: #008000; text-decoration-color: #008000\">'blocks.7.ckpt_resid_post'</span>, <span style=\"color: #008000; text-decoration-color: #008000\">'blocks.8.ckpt_resid_pre'</span>, <span style=\"color: #008000; text-decoration-color: #008000\">'blocks.8.ln1.ckpt_scaled'</span>, <span style=\"color: #008000; text-decoration-color: #008000\">'blocks.8.ln1.ckpt_normalized'</span>, \n",
       "<span style=\"color: #008000; text-decoration-color: #008000\">'blocks.8.attn.ckpt_q'</span>, <span style=\"color: #008000; text-decoration-color: #008000\">'blocks.8.attn.ckpt_k'</span>, <span style=\"color: #008000; text-decoration-color: #008000\">'blocks.8.attn.ckpt_v'</span>, <span style=\"color: #008000; text-decoration-color: #008000\">'blocks.8.attn.ckpt_scores'</span>, \n",
       "<span style=\"color: #008000; text-decoration-color: #008000\">'blocks.8.attn.ckpt_pattern'</span>, <span style=\"color: #008000; text-decoration-color: #008000\">'blocks.8.attn.ckpt_z'</span>, <span style=\"color: #008000; text-decoration-color: #008000\">'blocks.8.attn.ckpt_attn_out'</span>, <span style=\"color: #008000; text-decoration-color: #008000\">'blocks.8.ckpt_resid_mid'</span>, \n",
       "<span style=\"color: #008000; text-decoration-color: #008000\">'blocks.8.ln2.ckpt_scaled'</span>, <span style=\"color: #008000; text-decoration-color: #008000\">'blocks.8.ln2.ckpt_normalized'</span>, <span style=\"color: #008000; text-decoration-color: #008000\">'blocks.8.mlp.ckpt_pre'</span>, <span style=\"color: #008000; text-decoration-color: #008000\">'blocks.8.mlp.ckpt_post'</span>, \n",
       "<span style=\"color: #008000; text-decoration-color: #008000\">'blocks.8.mlp.ckpt_mlp_out'</span>, <span style=\"color: #008000; text-decoration-color: #008000\">'blocks.8.ckpt_resid_post'</span>, <span style=\"color: #008000; text-decoration-color: #008000\">'blocks.9.ckpt_resid_pre'</span>, <span style=\"color: #008000; text-decoration-color: #008000\">'blocks.9.ln1.ckpt_scaled'</span>, \n",
       "<span style=\"color: #008000; text-decoration-color: #008000\">'blocks.9.ln1.ckpt_normalized'</span>, <span style=\"color: #008000; text-decoration-color: #008000\">'blocks.9.attn.ckpt_q'</span>, <span style=\"color: #008000; text-decoration-color: #008000\">'blocks.9.attn.ckpt_k'</span>, <span style=\"color: #008000; text-decoration-color: #008000\">'blocks.9.attn.ckpt_v'</span>, \n",
       "<span style=\"color: #008000; text-decoration-color: #008000\">'blocks.9.attn.ckpt_scores'</span>, <span style=\"color: #008000; text-decoration-color: #008000\">'blocks.9.attn.ckpt_pattern'</span>, <span style=\"color: #008000; text-decoration-color: #008000\">'blocks.9.attn.ckpt_z'</span>, <span style=\"color: #008000; text-decoration-color: #008000\">'blocks.9.attn.ckpt_attn_out'</span>, \n",
       "<span style=\"color: #008000; text-decoration-color: #008000\">'blocks.9.ckpt_resid_mid'</span>, <span style=\"color: #008000; text-decoration-color: #008000\">'blocks.9.ln2.ckpt_scaled'</span>, <span style=\"color: #008000; text-decoration-color: #008000\">'blocks.9.ln2.ckpt_normalized'</span>, <span style=\"color: #008000; text-decoration-color: #008000\">'blocks.9.mlp.ckpt_pre'</span>, \n",
       "<span style=\"color: #008000; text-decoration-color: #008000\">'blocks.9.mlp.ckpt_post'</span>, <span style=\"color: #008000; text-decoration-color: #008000\">'blocks.9.mlp.ckpt_mlp_out'</span>, <span style=\"color: #008000; text-decoration-color: #008000\">'blocks.9.ckpt_resid_post'</span>, <span style=\"color: #008000; text-decoration-color: #008000\">'blocks.10.ckpt_resid_pre'</span>, \n",
       "<span style=\"color: #008000; text-decoration-color: #008000\">'blocks.10.ln1.ckpt_scaled'</span>, <span style=\"color: #008000; text-decoration-color: #008000\">'blocks.10.ln1.ckpt_normalized'</span>, <span style=\"color: #008000; text-decoration-color: #008000\">'blocks.10.attn.ckpt_q'</span>, <span style=\"color: #008000; text-decoration-color: #008000\">'blocks.10.attn.ckpt_k'</span>, \n",
       "<span style=\"color: #008000; text-decoration-color: #008000\">'blocks.10.attn.ckpt_v'</span>, <span style=\"color: #008000; text-decoration-color: #008000\">'blocks.10.attn.ckpt_scores'</span>, <span style=\"color: #008000; text-decoration-color: #008000\">'blocks.10.attn.ckpt_pattern'</span>, <span style=\"color: #008000; text-decoration-color: #008000\">'blocks.10.attn.ckpt_z'</span>, \n",
       "<span style=\"color: #008000; text-decoration-color: #008000\">'blocks.10.attn.ckpt_attn_out'</span>, <span style=\"color: #008000; text-decoration-color: #008000\">'blocks.10.ckpt_resid_mid'</span>, <span style=\"color: #008000; text-decoration-color: #008000\">'blocks.10.ln2.ckpt_scaled'</span>, \n",
       "<span style=\"color: #008000; text-decoration-color: #008000\">'blocks.10.ln2.ckpt_normalized'</span>, <span style=\"color: #008000; text-decoration-color: #008000\">'blocks.10.mlp.ckpt_pre'</span>, <span style=\"color: #008000; text-decoration-color: #008000\">'blocks.10.mlp.ckpt_post'</span>, <span style=\"color: #008000; text-decoration-color: #008000\">'blocks.10.mlp.ckpt_mlp_out'</span>,\n",
       "<span style=\"color: #008000; text-decoration-color: #008000\">'blocks.10.ckpt_resid_post'</span>, <span style=\"color: #008000; text-decoration-color: #008000\">'blocks.11.ckpt_resid_pre'</span>, <span style=\"color: #008000; text-decoration-color: #008000\">'blocks.11.ln1.ckpt_scaled'</span>, \n",
       "<span style=\"color: #008000; text-decoration-color: #008000\">'blocks.11.ln1.ckpt_normalized'</span>, <span style=\"color: #008000; text-decoration-color: #008000\">'blocks.11.attn.ckpt_q'</span>, <span style=\"color: #008000; text-decoration-color: #008000\">'blocks.11.attn.ckpt_k'</span>, <span style=\"color: #008000; text-decoration-color: #008000\">'blocks.11.attn.ckpt_v'</span>, \n",
       "<span style=\"color: #008000; text-decoration-color: #008000\">'blocks.11.attn.ckpt_scores'</span>, <span style=\"color: #008000; text-decoration-color: #008000\">'blocks.11.attn.ckpt_pattern'</span>, <span style=\"color: #008000; text-decoration-color: #008000\">'blocks.11.attn.ckpt_z'</span>, \n",
       "<span style=\"color: #008000; text-decoration-color: #008000\">'blocks.11.attn.ckpt_attn_out'</span>, <span style=\"color: #008000; text-decoration-color: #008000\">'blocks.11.ckpt_resid_mid'</span>, <span style=\"color: #008000; text-decoration-color: #008000\">'blocks.11.ln2.ckpt_scaled'</span>, \n",
       "<span style=\"color: #008000; text-decoration-color: #008000\">'blocks.11.ln2.ckpt_normalized'</span>, <span style=\"color: #008000; text-decoration-color: #008000\">'blocks.11.mlp.ckpt_pre'</span>, <span style=\"color: #008000; text-decoration-color: #008000\">'blocks.11.mlp.ckpt_post'</span>, <span style=\"color: #008000; text-decoration-color: #008000\">'blocks.11.mlp.ckpt_mlp_out'</span>,\n",
       "<span style=\"color: #008000; text-decoration-color: #008000\">'blocks.11.ckpt_resid_post'</span>, <span style=\"color: #008000; text-decoration-color: #008000\">'ln_final.ckpt_scaled'</span>, <span style=\"color: #008000; text-decoration-color: #008000\">'ln_final.ckpt_normalized'</span><span style=\"font-weight: bold\">])</span>\n",
       "</pre>\n"
      ],
      "text/plain": [
       "\u001b[1;35mdict_keys\u001b[0m\u001b[1m(\u001b[0m\u001b[1m[\u001b[0m\u001b[32m'ckpt_embed'\u001b[0m, \u001b[32m'ckpt_pos_embed'\u001b[0m, \u001b[32m'blocks.0.ckpt_resid_pre'\u001b[0m, \u001b[32m'blocks.0.ln1.ckpt_scaled'\u001b[0m, \n",
       "\u001b[32m'blocks.0.ln1.ckpt_normalized'\u001b[0m, \u001b[32m'blocks.0.attn.ckpt_q'\u001b[0m, \u001b[32m'blocks.0.attn.ckpt_k'\u001b[0m, \u001b[32m'blocks.0.attn.ckpt_v'\u001b[0m, \n",
       "\u001b[32m'blocks.0.attn.ckpt_scores'\u001b[0m, \u001b[32m'blocks.0.attn.ckpt_pattern'\u001b[0m, \u001b[32m'blocks.0.attn.ckpt_z'\u001b[0m, \u001b[32m'blocks.0.attn.ckpt_attn_out'\u001b[0m, \n",
       "\u001b[32m'blocks.0.ckpt_resid_mid'\u001b[0m, \u001b[32m'blocks.0.ln2.ckpt_scaled'\u001b[0m, \u001b[32m'blocks.0.ln2.ckpt_normalized'\u001b[0m, \u001b[32m'blocks.0.mlp.ckpt_pre'\u001b[0m, \n",
       "\u001b[32m'blocks.0.mlp.ckpt_post'\u001b[0m, \u001b[32m'blocks.0.mlp.ckpt_mlp_out'\u001b[0m, \u001b[32m'blocks.0.ckpt_resid_post'\u001b[0m, \u001b[32m'blocks.1.ckpt_resid_pre'\u001b[0m, \n",
       "\u001b[32m'blocks.1.ln1.ckpt_scaled'\u001b[0m, \u001b[32m'blocks.1.ln1.ckpt_normalized'\u001b[0m, \u001b[32m'blocks.1.attn.ckpt_q'\u001b[0m, \u001b[32m'blocks.1.attn.ckpt_k'\u001b[0m, \n",
       "\u001b[32m'blocks.1.attn.ckpt_v'\u001b[0m, \u001b[32m'blocks.1.attn.ckpt_scores'\u001b[0m, \u001b[32m'blocks.1.attn.ckpt_pattern'\u001b[0m, \u001b[32m'blocks.1.attn.ckpt_z'\u001b[0m, \n",
       "\u001b[32m'blocks.1.attn.ckpt_attn_out'\u001b[0m, \u001b[32m'blocks.1.ckpt_resid_mid'\u001b[0m, \u001b[32m'blocks.1.ln2.ckpt_scaled'\u001b[0m, \n",
       "\u001b[32m'blocks.1.ln2.ckpt_normalized'\u001b[0m, \u001b[32m'blocks.1.mlp.ckpt_pre'\u001b[0m, \u001b[32m'blocks.1.mlp.ckpt_post'\u001b[0m, \u001b[32m'blocks.1.mlp.ckpt_mlp_out'\u001b[0m, \n",
       "\u001b[32m'blocks.1.ckpt_resid_post'\u001b[0m, \u001b[32m'blocks.2.ckpt_resid_pre'\u001b[0m, \u001b[32m'blocks.2.ln1.ckpt_scaled'\u001b[0m, \u001b[32m'blocks.2.ln1.ckpt_normalized'\u001b[0m, \n",
       "\u001b[32m'blocks.2.attn.ckpt_q'\u001b[0m, \u001b[32m'blocks.2.attn.ckpt_k'\u001b[0m, \u001b[32m'blocks.2.attn.ckpt_v'\u001b[0m, \u001b[32m'blocks.2.attn.ckpt_scores'\u001b[0m, \n",
       "\u001b[32m'blocks.2.attn.ckpt_pattern'\u001b[0m, \u001b[32m'blocks.2.attn.ckpt_z'\u001b[0m, \u001b[32m'blocks.2.attn.ckpt_attn_out'\u001b[0m, \u001b[32m'blocks.2.ckpt_resid_mid'\u001b[0m, \n",
       "\u001b[32m'blocks.2.ln2.ckpt_scaled'\u001b[0m, \u001b[32m'blocks.2.ln2.ckpt_normalized'\u001b[0m, \u001b[32m'blocks.2.mlp.ckpt_pre'\u001b[0m, \u001b[32m'blocks.2.mlp.ckpt_post'\u001b[0m, \n",
       "\u001b[32m'blocks.2.mlp.ckpt_mlp_out'\u001b[0m, \u001b[32m'blocks.2.ckpt_resid_post'\u001b[0m, \u001b[32m'blocks.3.ckpt_resid_pre'\u001b[0m, \u001b[32m'blocks.3.ln1.ckpt_scaled'\u001b[0m, \n",
       "\u001b[32m'blocks.3.ln1.ckpt_normalized'\u001b[0m, \u001b[32m'blocks.3.attn.ckpt_q'\u001b[0m, \u001b[32m'blocks.3.attn.ckpt_k'\u001b[0m, \u001b[32m'blocks.3.attn.ckpt_v'\u001b[0m, \n",
       "\u001b[32m'blocks.3.attn.ckpt_scores'\u001b[0m, \u001b[32m'blocks.3.attn.ckpt_pattern'\u001b[0m, \u001b[32m'blocks.3.attn.ckpt_z'\u001b[0m, \u001b[32m'blocks.3.attn.ckpt_attn_out'\u001b[0m, \n",
       "\u001b[32m'blocks.3.ckpt_resid_mid'\u001b[0m, \u001b[32m'blocks.3.ln2.ckpt_scaled'\u001b[0m, \u001b[32m'blocks.3.ln2.ckpt_normalized'\u001b[0m, \u001b[32m'blocks.3.mlp.ckpt_pre'\u001b[0m, \n",
       "\u001b[32m'blocks.3.mlp.ckpt_post'\u001b[0m, \u001b[32m'blocks.3.mlp.ckpt_mlp_out'\u001b[0m, \u001b[32m'blocks.3.ckpt_resid_post'\u001b[0m, \u001b[32m'blocks.4.ckpt_resid_pre'\u001b[0m, \n",
       "\u001b[32m'blocks.4.ln1.ckpt_scaled'\u001b[0m, \u001b[32m'blocks.4.ln1.ckpt_normalized'\u001b[0m, \u001b[32m'blocks.4.attn.ckpt_q'\u001b[0m, \u001b[32m'blocks.4.attn.ckpt_k'\u001b[0m, \n",
       "\u001b[32m'blocks.4.attn.ckpt_v'\u001b[0m, \u001b[32m'blocks.4.attn.ckpt_scores'\u001b[0m, \u001b[32m'blocks.4.attn.ckpt_pattern'\u001b[0m, \u001b[32m'blocks.4.attn.ckpt_z'\u001b[0m, \n",
       "\u001b[32m'blocks.4.attn.ckpt_attn_out'\u001b[0m, \u001b[32m'blocks.4.ckpt_resid_mid'\u001b[0m, \u001b[32m'blocks.4.ln2.ckpt_scaled'\u001b[0m, \n",
       "\u001b[32m'blocks.4.ln2.ckpt_normalized'\u001b[0m, \u001b[32m'blocks.4.mlp.ckpt_pre'\u001b[0m, \u001b[32m'blocks.4.mlp.ckpt_post'\u001b[0m, \u001b[32m'blocks.4.mlp.ckpt_mlp_out'\u001b[0m, \n",
       "\u001b[32m'blocks.4.ckpt_resid_post'\u001b[0m, \u001b[32m'blocks.5.ckpt_resid_pre'\u001b[0m, \u001b[32m'blocks.5.ln1.ckpt_scaled'\u001b[0m, \u001b[32m'blocks.5.ln1.ckpt_normalized'\u001b[0m, \n",
       "\u001b[32m'blocks.5.attn.ckpt_q'\u001b[0m, \u001b[32m'blocks.5.attn.ckpt_k'\u001b[0m, \u001b[32m'blocks.5.attn.ckpt_v'\u001b[0m, \u001b[32m'blocks.5.attn.ckpt_scores'\u001b[0m, \n",
       "\u001b[32m'blocks.5.attn.ckpt_pattern'\u001b[0m, \u001b[32m'blocks.5.attn.ckpt_z'\u001b[0m, \u001b[32m'blocks.5.attn.ckpt_attn_out'\u001b[0m, \u001b[32m'blocks.5.ckpt_resid_mid'\u001b[0m, \n",
       "\u001b[32m'blocks.5.ln2.ckpt_scaled'\u001b[0m, \u001b[32m'blocks.5.ln2.ckpt_normalized'\u001b[0m, \u001b[32m'blocks.5.mlp.ckpt_pre'\u001b[0m, \u001b[32m'blocks.5.mlp.ckpt_post'\u001b[0m, \n",
       "\u001b[32m'blocks.5.mlp.ckpt_mlp_out'\u001b[0m, \u001b[32m'blocks.5.ckpt_resid_post'\u001b[0m, \u001b[32m'blocks.6.ckpt_resid_pre'\u001b[0m, \u001b[32m'blocks.6.ln1.ckpt_scaled'\u001b[0m, \n",
       "\u001b[32m'blocks.6.ln1.ckpt_normalized'\u001b[0m, \u001b[32m'blocks.6.attn.ckpt_q'\u001b[0m, \u001b[32m'blocks.6.attn.ckpt_k'\u001b[0m, \u001b[32m'blocks.6.attn.ckpt_v'\u001b[0m, \n",
       "\u001b[32m'blocks.6.attn.ckpt_scores'\u001b[0m, \u001b[32m'blocks.6.attn.ckpt_pattern'\u001b[0m, \u001b[32m'blocks.6.attn.ckpt_z'\u001b[0m, \u001b[32m'blocks.6.attn.ckpt_attn_out'\u001b[0m, \n",
       "\u001b[32m'blocks.6.ckpt_resid_mid'\u001b[0m, \u001b[32m'blocks.6.ln2.ckpt_scaled'\u001b[0m, \u001b[32m'blocks.6.ln2.ckpt_normalized'\u001b[0m, \u001b[32m'blocks.6.mlp.ckpt_pre'\u001b[0m, \n",
       "\u001b[32m'blocks.6.mlp.ckpt_post'\u001b[0m, \u001b[32m'blocks.6.mlp.ckpt_mlp_out'\u001b[0m, \u001b[32m'blocks.6.ckpt_resid_post'\u001b[0m, \u001b[32m'blocks.7.ckpt_resid_pre'\u001b[0m, \n",
       "\u001b[32m'blocks.7.ln1.ckpt_scaled'\u001b[0m, \u001b[32m'blocks.7.ln1.ckpt_normalized'\u001b[0m, \u001b[32m'blocks.7.attn.ckpt_q'\u001b[0m, \u001b[32m'blocks.7.attn.ckpt_k'\u001b[0m, \n",
       "\u001b[32m'blocks.7.attn.ckpt_v'\u001b[0m, \u001b[32m'blocks.7.attn.ckpt_scores'\u001b[0m, \u001b[32m'blocks.7.attn.ckpt_pattern'\u001b[0m, \u001b[32m'blocks.7.attn.ckpt_z'\u001b[0m, \n",
       "\u001b[32m'blocks.7.attn.ckpt_attn_out'\u001b[0m, \u001b[32m'blocks.7.ckpt_resid_mid'\u001b[0m, \u001b[32m'blocks.7.ln2.ckpt_scaled'\u001b[0m, \n",
       "\u001b[32m'blocks.7.ln2.ckpt_normalized'\u001b[0m, \u001b[32m'blocks.7.mlp.ckpt_pre'\u001b[0m, \u001b[32m'blocks.7.mlp.ckpt_post'\u001b[0m, \u001b[32m'blocks.7.mlp.ckpt_mlp_out'\u001b[0m, \n",
       "\u001b[32m'blocks.7.ckpt_resid_post'\u001b[0m, \u001b[32m'blocks.8.ckpt_resid_pre'\u001b[0m, \u001b[32m'blocks.8.ln1.ckpt_scaled'\u001b[0m, \u001b[32m'blocks.8.ln1.ckpt_normalized'\u001b[0m, \n",
       "\u001b[32m'blocks.8.attn.ckpt_q'\u001b[0m, \u001b[32m'blocks.8.attn.ckpt_k'\u001b[0m, \u001b[32m'blocks.8.attn.ckpt_v'\u001b[0m, \u001b[32m'blocks.8.attn.ckpt_scores'\u001b[0m, \n",
       "\u001b[32m'blocks.8.attn.ckpt_pattern'\u001b[0m, \u001b[32m'blocks.8.attn.ckpt_z'\u001b[0m, \u001b[32m'blocks.8.attn.ckpt_attn_out'\u001b[0m, \u001b[32m'blocks.8.ckpt_resid_mid'\u001b[0m, \n",
       "\u001b[32m'blocks.8.ln2.ckpt_scaled'\u001b[0m, \u001b[32m'blocks.8.ln2.ckpt_normalized'\u001b[0m, \u001b[32m'blocks.8.mlp.ckpt_pre'\u001b[0m, \u001b[32m'blocks.8.mlp.ckpt_post'\u001b[0m, \n",
       "\u001b[32m'blocks.8.mlp.ckpt_mlp_out'\u001b[0m, \u001b[32m'blocks.8.ckpt_resid_post'\u001b[0m, \u001b[32m'blocks.9.ckpt_resid_pre'\u001b[0m, \u001b[32m'blocks.9.ln1.ckpt_scaled'\u001b[0m, \n",
       "\u001b[32m'blocks.9.ln1.ckpt_normalized'\u001b[0m, \u001b[32m'blocks.9.attn.ckpt_q'\u001b[0m, \u001b[32m'blocks.9.attn.ckpt_k'\u001b[0m, \u001b[32m'blocks.9.attn.ckpt_v'\u001b[0m, \n",
       "\u001b[32m'blocks.9.attn.ckpt_scores'\u001b[0m, \u001b[32m'blocks.9.attn.ckpt_pattern'\u001b[0m, \u001b[32m'blocks.9.attn.ckpt_z'\u001b[0m, \u001b[32m'blocks.9.attn.ckpt_attn_out'\u001b[0m, \n",
       "\u001b[32m'blocks.9.ckpt_resid_mid'\u001b[0m, \u001b[32m'blocks.9.ln2.ckpt_scaled'\u001b[0m, \u001b[32m'blocks.9.ln2.ckpt_normalized'\u001b[0m, \u001b[32m'blocks.9.mlp.ckpt_pre'\u001b[0m, \n",
       "\u001b[32m'blocks.9.mlp.ckpt_post'\u001b[0m, \u001b[32m'blocks.9.mlp.ckpt_mlp_out'\u001b[0m, \u001b[32m'blocks.9.ckpt_resid_post'\u001b[0m, \u001b[32m'blocks.10.ckpt_resid_pre'\u001b[0m, \n",
       "\u001b[32m'blocks.10.ln1.ckpt_scaled'\u001b[0m, \u001b[32m'blocks.10.ln1.ckpt_normalized'\u001b[0m, \u001b[32m'blocks.10.attn.ckpt_q'\u001b[0m, \u001b[32m'blocks.10.attn.ckpt_k'\u001b[0m, \n",
       "\u001b[32m'blocks.10.attn.ckpt_v'\u001b[0m, \u001b[32m'blocks.10.attn.ckpt_scores'\u001b[0m, \u001b[32m'blocks.10.attn.ckpt_pattern'\u001b[0m, \u001b[32m'blocks.10.attn.ckpt_z'\u001b[0m, \n",
       "\u001b[32m'blocks.10.attn.ckpt_attn_out'\u001b[0m, \u001b[32m'blocks.10.ckpt_resid_mid'\u001b[0m, \u001b[32m'blocks.10.ln2.ckpt_scaled'\u001b[0m, \n",
       "\u001b[32m'blocks.10.ln2.ckpt_normalized'\u001b[0m, \u001b[32m'blocks.10.mlp.ckpt_pre'\u001b[0m, \u001b[32m'blocks.10.mlp.ckpt_post'\u001b[0m, \u001b[32m'blocks.10.mlp.ckpt_mlp_out'\u001b[0m,\n",
       "\u001b[32m'blocks.10.ckpt_resid_post'\u001b[0m, \u001b[32m'blocks.11.ckpt_resid_pre'\u001b[0m, \u001b[32m'blocks.11.ln1.ckpt_scaled'\u001b[0m, \n",
       "\u001b[32m'blocks.11.ln1.ckpt_normalized'\u001b[0m, \u001b[32m'blocks.11.attn.ckpt_q'\u001b[0m, \u001b[32m'blocks.11.attn.ckpt_k'\u001b[0m, \u001b[32m'blocks.11.attn.ckpt_v'\u001b[0m, \n",
       "\u001b[32m'blocks.11.attn.ckpt_scores'\u001b[0m, \u001b[32m'blocks.11.attn.ckpt_pattern'\u001b[0m, \u001b[32m'blocks.11.attn.ckpt_z'\u001b[0m, \n",
       "\u001b[32m'blocks.11.attn.ckpt_attn_out'\u001b[0m, \u001b[32m'blocks.11.ckpt_resid_mid'\u001b[0m, \u001b[32m'blocks.11.ln2.ckpt_scaled'\u001b[0m, \n",
       "\u001b[32m'blocks.11.ln2.ckpt_normalized'\u001b[0m, \u001b[32m'blocks.11.mlp.ckpt_pre'\u001b[0m, \u001b[32m'blocks.11.mlp.ckpt_post'\u001b[0m, \u001b[32m'blocks.11.mlp.ckpt_mlp_out'\u001b[0m,\n",
       "\u001b[32m'blocks.11.ckpt_resid_post'\u001b[0m, \u001b[32m'ln_final.ckpt_scaled'\u001b[0m, \u001b[32m'ln_final.ckpt_normalized'\u001b[0m\u001b[1m]\u001b[0m\u001b[1m)\u001b[0m\n"
      ]
     },
     "metadata": {},
     "output_type": "display_data"
    }
   ],
   "source": [
    "print(ckpts.keys())"
   ]
  },
  {
   "cell_type": "code",
   "execution_count": 173,
   "metadata": {},
   "outputs": [],
   "source": [
    "ln_pre = ckpts.get(act_name=\"resid_pre\", block=0)\n",
    "ln_pre = ln_pre.detach().cpu()"
   ]
  },
  {
   "cell_type": "code",
   "execution_count": 174,
   "metadata": {},
   "outputs": [],
   "source": [
    "ln_post = ckpts.get(act_name=\"normalized\", layer_name=\"ln1\", block=0)\n",
    "ln_post = ln_post.detach().cpu()"
   ]
  },
  {
   "cell_type": "code",
   "execution_count": 175,
   "metadata": {},
   "outputs": [],
   "source": [
    "def epanechnikov(v, h):\n",
    "    return torch.where(torch.abs(v / h) <= 1, 0.75 * (1 - (v / h) ** 2), 0)"
   ]
  },
  {
   "cell_type": "code",
   "execution_count": 176,
   "metadata": {},
   "outputs": [
    {
     "data": {
      "text/plain": [
       "tensor([[[0.7495, 0.7482, 0.7500,  ..., 0.7498, 0.7477, 0.7496],\n",
       "         [0.7499, 0.7497, 0.7500,  ..., 0.7498, 0.7494, 0.7487],\n",
       "         [0.7496, 0.7492, 0.7498,  ..., 0.7498, 0.7497, 0.7499],\n",
       "         ...,\n",
       "         [0.7495, 0.7498, 0.7485,  ..., 0.7493, 0.7499, 0.7499],\n",
       "         [0.7499, 0.7500, 0.7498,  ..., 0.7499, 0.7500, 0.7495],\n",
       "         [0.7500, 0.7494, 0.7485,  ..., 0.7495, 0.7500, 0.7473]]])"
      ]
     },
     "execution_count": 176,
     "metadata": {},
     "output_type": "execute_result"
    }
   ],
   "source": [
    "epanechnikov(ln_pre, 7)"
   ]
  },
  {
   "cell_type": "code",
   "execution_count": 177,
   "metadata": {},
   "outputs": [
    {
     "data": {
      "text/plain": [
       "tensor(0.1070)"
      ]
     },
     "execution_count": 177,
     "metadata": {},
     "output_type": "execute_result"
    }
   ],
   "source": [
    "epanechnikov((0 - ln_pre), 7).mean() / 7"
   ]
  },
  {
   "cell_type": "code",
   "execution_count": 178,
   "metadata": {},
   "outputs": [
    {
     "data": {
      "text/plain": [
       "tensor(0.)"
      ]
     },
     "execution_count": 178,
     "metadata": {},
     "output_type": "execute_result"
    }
   ],
   "source": [
    "epanechnikov((20 - ln_pre), 7).mean() / 7"
   ]
  },
  {
   "cell_type": "code",
   "execution_count": 179,
   "metadata": {},
   "outputs": [
    {
     "data": {
      "text/plain": [
       "tensor([0.1070, 0.0000])"
      ]
     },
     "execution_count": 179,
     "metadata": {},
     "output_type": "execute_result"
    }
   ],
   "source": [
    "epanechnikov((torch.tensor([0, 20]).reshape(2, 1, 1) - ln_pre), 7).mean(dim=[1, 2]) / 7"
   ]
  },
  {
   "cell_type": "code",
   "execution_count": 180,
   "metadata": {},
   "outputs": [
    {
     "data": {
      "text/plain": [
       "tensor([1.4446e-03, 2.0001e+01])"
      ]
     },
     "execution_count": 180,
     "metadata": {},
     "output_type": "execute_result"
    }
   ],
   "source": [
    "(torch.tensor([0, 20]).reshape(2, 1, 1) - ln_pre).mean(dim=[1, 2])"
   ]
  },
  {
   "cell_type": "code",
   "execution_count": 181,
   "metadata": {},
   "outputs": [],
   "source": [
    "x = torch.linspace(-5, 5, 1000)"
   ]
  },
  {
   "cell_type": "code",
   "execution_count": 182,
   "metadata": {},
   "outputs": [],
   "source": [
    "y = epanechnikov(x.reshape(-1, 1, 1) - ln_pre, 0.17).mean(dim=[1, 2])"
   ]
  },
  {
   "cell_type": "code",
   "execution_count": 183,
   "metadata": {},
   "outputs": [
    {
     "data": {
      "text/plain": [
       "[<matplotlib.lines.Line2D at 0x2038659bb10>]"
      ]
     },
     "execution_count": 183,
     "metadata": {},
     "output_type": "execute_result"
    },
    {
     "data": {
      "image/png": "[encoded data removed]",
      "text/plain": [
       "<Figure size 640x480 with 1 Axes>"
      ]
     },
     "metadata": {},
     "output_type": "display_data"
    }
   ],
   "source": [
    "plt.plot(x, y)"
   ]
  },
  {
   "cell_type": "code",
   "execution_count": 184,
   "metadata": {},
   "outputs": [],
   "source": [
    "y = epanechnikov(x.reshape(-1, 1, 1) - ln_post, 0.17).mean(dim=[1, 2])"
   ]
  },
  {
   "cell_type": "code",
   "execution_count": 185,
   "metadata": {},
   "outputs": [
    {
     "data": {
      "text/plain": [
       "[<matplotlib.lines.Line2D at 0x2038659d4d0>]"
      ]
     },
     "execution_count": 185,
     "metadata": {},
     "output_type": "execute_result"
    },
    {
     "data": {
      "image/png": "[encoded data removed]",
      "text/plain": [
       "<Figure size 640x480 with 1 Axes>"
      ]
     },
     "metadata": {},
     "output_type": "display_data"
    }
   ],
   "source": [
    "plt.plot(x, y)"
   ]
  },
  {
   "cell_type": "code",
   "execution_count": 146,
   "metadata": {},
   "outputs": [],
   "source": [
    "u = ln_post.mean()\n",
    "var = ln_post.var()"
   ]
  },
  {
   "cell_type": "code",
   "execution_count": 155,
   "metadata": {},
   "outputs": [
    {
     "data": {
      "text/plain": [
       "(tensor(-0.0057), tensor(0.0141))"
      ]
     },
     "execution_count": 155,
     "metadata": {},
     "output_type": "execute_result"
    }
   ],
   "source": [
    "u, var"
   ]
  },
  {
   "cell_type": "code",
   "execution_count": 147,
   "metadata": {},
   "outputs": [],
   "source": [
    "def normal(x, u, var):\n",
    "    return 1 / (torch.sqrt(var * 2 * torch.pi)) * torch.exp(-1 / 2 * (x - u) ** 2 / var)"
   ]
  },
  {
   "cell_type": "code",
   "execution_count": 153,
   "metadata": {},
   "outputs": [],
   "source": [
    "y = 1 / torch.sqrt(torch.tensor(2 * torch.pi)) * torch.exp(-(x**2) / 2)"
   ]
  },
  {
   "cell_type": "code",
   "execution_count": 154,
   "metadata": {},
   "outputs": [
    {
     "data": {
      "text/plain": [
       "[<matplotlib.lines.Line2D at 0x203865efd90>]"
      ]
     },
     "execution_count": 154,
     "metadata": {},
     "output_type": "execute_result"
    },
    {
     "data": {
      "image/png": "[encoded data removed]",
      "text/plain": [
       "<Figure size 640x480 with 1 Axes>"
      ]
     },
     "metadata": {},
     "output_type": "display_data"
    }
   ],
   "source": [
    "plt.plot(x, y)"
   ]
  },
  {
   "cell_type": "code",
   "execution_count": 168,
   "metadata": {},
   "outputs": [],
   "source": [
    "def convert_to_points(arr1, arr2):\n",
    "    assert len(arr1) == len(arr2), \"The length of the two arrays must be equal.\"\n",
    "    points = [{\"x\": el1.item(), \"y\": el2.item()} for (el1, el2) in zip(arr1, arr2)]\n",
    "    return points\n",
    "\n",
    "\n",
    "class KernelDensityEstimator:\n",
    "    def __init__(self, kernel, bandwidth):\n",
    "        self.kernel = kernel\n",
    "        self.bandwidth = bandwidth\n",
    "\n",
    "    def estimate(self, data, start: float, end: float, steps=None):\n",
    "        steps = 1 if steps is None else steps\n",
    "        x = torch.linspace(start, end, steps).reshape(-1, 1, 1)\n",
    "        y = self.kernel(x - data, self.bandwidth).mean(dim=[1, 2])\n",
    "        return convert_to_points(x.squeeze(), y)"
   ]
  },
  {
   "cell_type": "code",
   "execution_count": 169,
   "metadata": {},
   "outputs": [],
   "source": [
    "estimator = KernelDensityEstimator(epanechnikov, 0.17)"
   ]
  },
  {
   "cell_type": "code",
   "execution_count": 172,
   "metadata": {},
   "outputs": [
    {
     "data": {
      "text/plain": [
       "{'x': 0.005005359649658203, 'y': 0.2845475971698761}"
      ]
     },
     "execution_count": 172,
     "metadata": {},
     "output_type": "execute_result"
    }
   ],
   "source": [
    "estimator.estimate(ln_pre, -5, 5, 1000)"
   ]
  },
  {
   "cell_type": "code",
   "execution_count": null,
   "metadata": {},
   "outputs": [],
   "source": []
  }
 ],
 "metadata": {
  "kernelspec": {
   "display_name": "base",
   "language": "python",
   "name": "python3"
  },
  "language_info": {
   "codemirror_mode": {
    "name": "ipython",
    "version": 3
   },
   "file_extension": ".py",
   "mimetype": "text/x-python",
   "name": "python",
   "nbconvert_exporter": "python",
   "pygments_lexer": "ipython3",
   "version": "3.11.4"
  }
 },
 "nbformat": 4,
 "nbformat_minor": 2
}

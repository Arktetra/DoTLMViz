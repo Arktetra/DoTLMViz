{
 "cells": [
  {
   "cell_type": "markdown",
   "metadata": {},
   "source": [
    "# CkptedTransformer"
   ]
  },
  {
   "cell_type": "code",
   "execution_count": 8,
   "metadata": {},
   "outputs": [],
   "source": [
    "from DoTLMViz import CkptedTransformer\n",
    "\n",
    "from rich import print\n",
    "from transformers import GPT2Tokenizer"
   ]
  },
  {
   "cell_type": "markdown",
   "metadata": {},
   "source": [
    "Create a tokenizer and the checkpointed transformer from the pretrained gpt models."
   ]
  },
  {
   "cell_type": "code",
   "execution_count": 2,
   "metadata": {},
   "outputs": [
    {
     "name": "stderr",
     "output_type": "stream",
     "text": [
      "c:\\Users\\NITRO5\\miniconda3\\Lib\\site-packages\\transformers\\tokenization_utils_base.py:1601: FutureWarning: `clean_up_tokenization_spaces` was not set. It will be set to `True` by default. This behavior will be depracted in transformers v4.45, and will be then set to `False` by default. For more details check this issue: https://github.com/huggingface/transformers/issues/31884\n",
      "  warnings.warn(\n"
     ]
    }
   ],
   "source": [
    "tokenizer = GPT2Tokenizer.from_pretrained(\"gpt2\")\n",
    "model = CkptedTransformer.from_pretrained(\"gpt2-small\")"
   ]
  },
  {
   "cell_type": "markdown",
   "metadata": {},
   "source": [
    "Create tokens to pass into the model."
   ]
  },
  {
   "cell_type": "code",
   "execution_count": 3,
   "metadata": {},
   "outputs": [],
   "source": [
    "tokens = tokenizer(\"alpha beta gamma\", return_tensors=\"pt\")"
   ]
  },
  {
   "cell_type": "markdown",
   "metadata": {},
   "source": [
    "Get logits and the cache of the model by running the model on the tokens."
   ]
  },
  {
   "cell_type": "code",
   "execution_count": 4,
   "metadata": {},
   "outputs": [],
   "source": [
    "logits, cache = model.run_with_ckpts(tokens[\"input_ids\"])"
   ]
  },
  {
   "cell_type": "markdown",
   "metadata": {},
   "source": [
    "Access activations through the cache."
   ]
  },
  {
   "cell_type": "code",
   "execution_count": 5,
   "metadata": {},
   "outputs": [
    {
     "data": {
      "text/plain": [
       "tensor([[[[1.0000e+00, 0.0000e+00, 0.0000e+00],\n",
       "          [8.7884e-01, 1.2116e-01, 0.0000e+00],\n",
       "          [4.6817e-01, 2.1589e-01, 3.1595e-01]],\n",
       "\n",
       "         [[1.0000e+00, 0.0000e+00, 0.0000e+00],\n",
       "          [6.6951e-04, 9.9933e-01, 0.0000e+00],\n",
       "          [1.5889e-03, 4.4212e-02, 9.5420e-01]],\n",
       "\n",
       "         [[1.0000e+00, 0.0000e+00, 0.0000e+00],\n",
       "          [8.2392e-01, 1.7608e-01, 0.0000e+00],\n",
       "          [7.3795e-01, 1.6675e-01, 9.5302e-02]],\n",
       "\n",
       "         [[1.0000e+00, 0.0000e+00, 0.0000e+00],\n",
       "          [2.3172e-01, 7.6828e-01, 0.0000e+00],\n",
       "          [4.6818e-02, 1.0776e-02, 9.4241e-01]],\n",
       "\n",
       "         [[1.0000e+00, 0.0000e+00, 0.0000e+00],\n",
       "          [7.0763e-01, 2.9237e-01, 0.0000e+00],\n",
       "          [7.3089e-02, 6.2097e-02, 8.6481e-01]],\n",
       "\n",
       "         [[1.0000e+00, 0.0000e+00, 0.0000e+00],\n",
       "          [2.1252e-01, 7.8748e-01, 0.0000e+00],\n",
       "          [2.6881e-01, 2.4206e-02, 7.0698e-01]],\n",
       "\n",
       "         [[1.0000e+00, 0.0000e+00, 0.0000e+00],\n",
       "          [8.8251e-01, 1.1749e-01, 0.0000e+00],\n",
       "          [6.2809e-01, 2.1542e-01, 1.5648e-01]],\n",
       "\n",
       "         [[1.0000e+00, 0.0000e+00, 0.0000e+00],\n",
       "          [9.6287e-01, 3.7126e-02, 0.0000e+00],\n",
       "          [5.6373e-01, 3.5041e-01, 8.5858e-02]],\n",
       "\n",
       "         [[1.0000e+00, 0.0000e+00, 0.0000e+00],\n",
       "          [7.9798e-01, 2.0202e-01, 0.0000e+00],\n",
       "          [4.9780e-01, 2.5206e-01, 2.5014e-01]],\n",
       "\n",
       "         [[1.0000e+00, 0.0000e+00, 0.0000e+00],\n",
       "          [8.6681e-01, 1.3319e-01, 0.0000e+00],\n",
       "          [6.7614e-01, 2.8460e-01, 3.9259e-02]],\n",
       "\n",
       "         [[1.0000e+00, 0.0000e+00, 0.0000e+00],\n",
       "          [6.0034e-01, 3.9966e-01, 0.0000e+00],\n",
       "          [5.3544e-01, 2.2628e-01, 2.3828e-01]],\n",
       "\n",
       "         [[1.0000e+00, 0.0000e+00, 0.0000e+00],\n",
       "          [5.8316e-01, 4.1684e-01, 0.0000e+00],\n",
       "          [4.0898e-01, 4.0561e-01, 1.8540e-01]]]], device='cuda:0',\n",
       "       grad_fn=<SoftmaxBackward0>)"
      ]
     },
     "execution_count": 5,
     "metadata": {},
     "output_type": "execute_result"
    }
   ],
   "source": [
    "cache[\"blocks.0.attn.ckpt_pattern\"]"
   ]
  },
  {
   "cell_type": "code",
   "execution_count": 9,
   "metadata": {},
   "outputs": [
    {
     "data": {
      "text/html": [
       "<pre style=\"white-space:pre;overflow-x:auto;line-height:normal;font-family:Menlo,'DejaVu Sans Mono',consolas,'Courier New',monospace\"><span style=\"color: #800080; text-decoration-color: #800080; font-weight: bold\">dict_keys</span><span style=\"font-weight: bold\">([</span><span style=\"color: #008000; text-decoration-color: #008000\">'ckpt_embed'</span>, <span style=\"color: #008000; text-decoration-color: #008000\">'ckpt_pos_embed'</span>, <span style=\"color: #008000; text-decoration-color: #008000\">'blocks.0.resid_pre'</span>, <span style=\"color: #008000; text-decoration-color: #008000\">'blocks.0.ln1.ckpt_scaled'</span>, \n",
       "<span style=\"color: #008000; text-decoration-color: #008000\">'blocks.0.ln1.ckpt_normalized'</span>, <span style=\"color: #008000; text-decoration-color: #008000\">'blocks.0.attn.ckpt_q'</span>, <span style=\"color: #008000; text-decoration-color: #008000\">'blocks.0.attn.ckpt_k'</span>, <span style=\"color: #008000; text-decoration-color: #008000\">'blocks.0.attn.ckpt_v'</span>, \n",
       "<span style=\"color: #008000; text-decoration-color: #008000\">'blocks.0.attn.ckpt_scores'</span>, <span style=\"color: #008000; text-decoration-color: #008000\">'blocks.0.attn.ckpt_pattern'</span>, <span style=\"color: #008000; text-decoration-color: #008000\">'blocks.0.attn.ckpt_z'</span>, <span style=\"color: #008000; text-decoration-color: #008000\">'blocks.0.attn.ckpt_attn_out'</span>, \n",
       "<span style=\"color: #008000; text-decoration-color: #008000\">'blocks.0.resid_mid'</span>, <span style=\"color: #008000; text-decoration-color: #008000\">'blocks.0.ln2.ckpt_scaled'</span>, <span style=\"color: #008000; text-decoration-color: #008000\">'blocks.0.ln2.ckpt_normalized'</span>, <span style=\"color: #008000; text-decoration-color: #008000\">'blocks.0.mlp.ckpt_pre'</span>, \n",
       "<span style=\"color: #008000; text-decoration-color: #008000\">'blocks.0.mlp.ckpt_post'</span>, <span style=\"color: #008000; text-decoration-color: #008000\">'blocks.0.mlp.ckpt_mlp_out'</span>, <span style=\"color: #008000; text-decoration-color: #008000\">'blocks.0.resid_post'</span>, <span style=\"color: #008000; text-decoration-color: #008000\">'blocks.1.resid_pre'</span>, \n",
       "<span style=\"color: #008000; text-decoration-color: #008000\">'blocks.1.ln1.ckpt_scaled'</span>, <span style=\"color: #008000; text-decoration-color: #008000\">'blocks.1.ln1.ckpt_normalized'</span>, <span style=\"color: #008000; text-decoration-color: #008000\">'blocks.1.attn.ckpt_q'</span>, <span style=\"color: #008000; text-decoration-color: #008000\">'blocks.1.attn.ckpt_k'</span>, \n",
       "<span style=\"color: #008000; text-decoration-color: #008000\">'blocks.1.attn.ckpt_v'</span>, <span style=\"color: #008000; text-decoration-color: #008000\">'blocks.1.attn.ckpt_scores'</span>, <span style=\"color: #008000; text-decoration-color: #008000\">'blocks.1.attn.ckpt_pattern'</span>, <span style=\"color: #008000; text-decoration-color: #008000\">'blocks.1.attn.ckpt_z'</span>, \n",
       "<span style=\"color: #008000; text-decoration-color: #008000\">'blocks.1.attn.ckpt_attn_out'</span>, <span style=\"color: #008000; text-decoration-color: #008000\">'blocks.1.resid_mid'</span>, <span style=\"color: #008000; text-decoration-color: #008000\">'blocks.1.ln2.ckpt_scaled'</span>, <span style=\"color: #008000; text-decoration-color: #008000\">'blocks.1.ln2.ckpt_normalized'</span>, \n",
       "<span style=\"color: #008000; text-decoration-color: #008000\">'blocks.1.mlp.ckpt_pre'</span>, <span style=\"color: #008000; text-decoration-color: #008000\">'blocks.1.mlp.ckpt_post'</span>, <span style=\"color: #008000; text-decoration-color: #008000\">'blocks.1.mlp.ckpt_mlp_out'</span>, <span style=\"color: #008000; text-decoration-color: #008000\">'blocks.1.resid_post'</span>, \n",
       "<span style=\"color: #008000; text-decoration-color: #008000\">'blocks.2.resid_pre'</span>, <span style=\"color: #008000; text-decoration-color: #008000\">'blocks.2.ln1.ckpt_scaled'</span>, <span style=\"color: #008000; text-decoration-color: #008000\">'blocks.2.ln1.ckpt_normalized'</span>, <span style=\"color: #008000; text-decoration-color: #008000\">'blocks.2.attn.ckpt_q'</span>, \n",
       "<span style=\"color: #008000; text-decoration-color: #008000\">'blocks.2.attn.ckpt_k'</span>, <span style=\"color: #008000; text-decoration-color: #008000\">'blocks.2.attn.ckpt_v'</span>, <span style=\"color: #008000; text-decoration-color: #008000\">'blocks.2.attn.ckpt_scores'</span>, <span style=\"color: #008000; text-decoration-color: #008000\">'blocks.2.attn.ckpt_pattern'</span>, \n",
       "<span style=\"color: #008000; text-decoration-color: #008000\">'blocks.2.attn.ckpt_z'</span>, <span style=\"color: #008000; text-decoration-color: #008000\">'blocks.2.attn.ckpt_attn_out'</span>, <span style=\"color: #008000; text-decoration-color: #008000\">'blocks.2.resid_mid'</span>, <span style=\"color: #008000; text-decoration-color: #008000\">'blocks.2.ln2.ckpt_scaled'</span>, \n",
       "<span style=\"color: #008000; text-decoration-color: #008000\">'blocks.2.ln2.ckpt_normalized'</span>, <span style=\"color: #008000; text-decoration-color: #008000\">'blocks.2.mlp.ckpt_pre'</span>, <span style=\"color: #008000; text-decoration-color: #008000\">'blocks.2.mlp.ckpt_post'</span>, <span style=\"color: #008000; text-decoration-color: #008000\">'blocks.2.mlp.ckpt_mlp_out'</span>, \n",
       "<span style=\"color: #008000; text-decoration-color: #008000\">'blocks.2.resid_post'</span>, <span style=\"color: #008000; text-decoration-color: #008000\">'blocks.3.resid_pre'</span>, <span style=\"color: #008000; text-decoration-color: #008000\">'blocks.3.ln1.ckpt_scaled'</span>, <span style=\"color: #008000; text-decoration-color: #008000\">'blocks.3.ln1.ckpt_normalized'</span>, \n",
       "<span style=\"color: #008000; text-decoration-color: #008000\">'blocks.3.attn.ckpt_q'</span>, <span style=\"color: #008000; text-decoration-color: #008000\">'blocks.3.attn.ckpt_k'</span>, <span style=\"color: #008000; text-decoration-color: #008000\">'blocks.3.attn.ckpt_v'</span>, <span style=\"color: #008000; text-decoration-color: #008000\">'blocks.3.attn.ckpt_scores'</span>, \n",
       "<span style=\"color: #008000; text-decoration-color: #008000\">'blocks.3.attn.ckpt_pattern'</span>, <span style=\"color: #008000; text-decoration-color: #008000\">'blocks.3.attn.ckpt_z'</span>, <span style=\"color: #008000; text-decoration-color: #008000\">'blocks.3.attn.ckpt_attn_out'</span>, <span style=\"color: #008000; text-decoration-color: #008000\">'blocks.3.resid_mid'</span>, \n",
       "<span style=\"color: #008000; text-decoration-color: #008000\">'blocks.3.ln2.ckpt_scaled'</span>, <span style=\"color: #008000; text-decoration-color: #008000\">'blocks.3.ln2.ckpt_normalized'</span>, <span style=\"color: #008000; text-decoration-color: #008000\">'blocks.3.mlp.ckpt_pre'</span>, <span style=\"color: #008000; text-decoration-color: #008000\">'blocks.3.mlp.ckpt_post'</span>, \n",
       "<span style=\"color: #008000; text-decoration-color: #008000\">'blocks.3.mlp.ckpt_mlp_out'</span>, <span style=\"color: #008000; text-decoration-color: #008000\">'blocks.3.resid_post'</span>, <span style=\"color: #008000; text-decoration-color: #008000\">'blocks.4.resid_pre'</span>, <span style=\"color: #008000; text-decoration-color: #008000\">'blocks.4.ln1.ckpt_scaled'</span>, \n",
       "<span style=\"color: #008000; text-decoration-color: #008000\">'blocks.4.ln1.ckpt_normalized'</span>, <span style=\"color: #008000; text-decoration-color: #008000\">'blocks.4.attn.ckpt_q'</span>, <span style=\"color: #008000; text-decoration-color: #008000\">'blocks.4.attn.ckpt_k'</span>, <span style=\"color: #008000; text-decoration-color: #008000\">'blocks.4.attn.ckpt_v'</span>, \n",
       "<span style=\"color: #008000; text-decoration-color: #008000\">'blocks.4.attn.ckpt_scores'</span>, <span style=\"color: #008000; text-decoration-color: #008000\">'blocks.4.attn.ckpt_pattern'</span>, <span style=\"color: #008000; text-decoration-color: #008000\">'blocks.4.attn.ckpt_z'</span>, <span style=\"color: #008000; text-decoration-color: #008000\">'blocks.4.attn.ckpt_attn_out'</span>, \n",
       "<span style=\"color: #008000; text-decoration-color: #008000\">'blocks.4.resid_mid'</span>, <span style=\"color: #008000; text-decoration-color: #008000\">'blocks.4.ln2.ckpt_scaled'</span>, <span style=\"color: #008000; text-decoration-color: #008000\">'blocks.4.ln2.ckpt_normalized'</span>, <span style=\"color: #008000; text-decoration-color: #008000\">'blocks.4.mlp.ckpt_pre'</span>, \n",
       "<span style=\"color: #008000; text-decoration-color: #008000\">'blocks.4.mlp.ckpt_post'</span>, <span style=\"color: #008000; text-decoration-color: #008000\">'blocks.4.mlp.ckpt_mlp_out'</span>, <span style=\"color: #008000; text-decoration-color: #008000\">'blocks.4.resid_post'</span>, <span style=\"color: #008000; text-decoration-color: #008000\">'blocks.5.resid_pre'</span>, \n",
       "<span style=\"color: #008000; text-decoration-color: #008000\">'blocks.5.ln1.ckpt_scaled'</span>, <span style=\"color: #008000; text-decoration-color: #008000\">'blocks.5.ln1.ckpt_normalized'</span>, <span style=\"color: #008000; text-decoration-color: #008000\">'blocks.5.attn.ckpt_q'</span>, <span style=\"color: #008000; text-decoration-color: #008000\">'blocks.5.attn.ckpt_k'</span>, \n",
       "<span style=\"color: #008000; text-decoration-color: #008000\">'blocks.5.attn.ckpt_v'</span>, <span style=\"color: #008000; text-decoration-color: #008000\">'blocks.5.attn.ckpt_scores'</span>, <span style=\"color: #008000; text-decoration-color: #008000\">'blocks.5.attn.ckpt_pattern'</span>, <span style=\"color: #008000; text-decoration-color: #008000\">'blocks.5.attn.ckpt_z'</span>, \n",
       "<span style=\"color: #008000; text-decoration-color: #008000\">'blocks.5.attn.ckpt_attn_out'</span>, <span style=\"color: #008000; text-decoration-color: #008000\">'blocks.5.resid_mid'</span>, <span style=\"color: #008000; text-decoration-color: #008000\">'blocks.5.ln2.ckpt_scaled'</span>, <span style=\"color: #008000; text-decoration-color: #008000\">'blocks.5.ln2.ckpt_normalized'</span>, \n",
       "<span style=\"color: #008000; text-decoration-color: #008000\">'blocks.5.mlp.ckpt_pre'</span>, <span style=\"color: #008000; text-decoration-color: #008000\">'blocks.5.mlp.ckpt_post'</span>, <span style=\"color: #008000; text-decoration-color: #008000\">'blocks.5.mlp.ckpt_mlp_out'</span>, <span style=\"color: #008000; text-decoration-color: #008000\">'blocks.5.resid_post'</span>, \n",
       "<span style=\"color: #008000; text-decoration-color: #008000\">'blocks.6.resid_pre'</span>, <span style=\"color: #008000; text-decoration-color: #008000\">'blocks.6.ln1.ckpt_scaled'</span>, <span style=\"color: #008000; text-decoration-color: #008000\">'blocks.6.ln1.ckpt_normalized'</span>, <span style=\"color: #008000; text-decoration-color: #008000\">'blocks.6.attn.ckpt_q'</span>, \n",
       "<span style=\"color: #008000; text-decoration-color: #008000\">'blocks.6.attn.ckpt_k'</span>, <span style=\"color: #008000; text-decoration-color: #008000\">'blocks.6.attn.ckpt_v'</span>, <span style=\"color: #008000; text-decoration-color: #008000\">'blocks.6.attn.ckpt_scores'</span>, <span style=\"color: #008000; text-decoration-color: #008000\">'blocks.6.attn.ckpt_pattern'</span>, \n",
       "<span style=\"color: #008000; text-decoration-color: #008000\">'blocks.6.attn.ckpt_z'</span>, <span style=\"color: #008000; text-decoration-color: #008000\">'blocks.6.attn.ckpt_attn_out'</span>, <span style=\"color: #008000; text-decoration-color: #008000\">'blocks.6.resid_mid'</span>, <span style=\"color: #008000; text-decoration-color: #008000\">'blocks.6.ln2.ckpt_scaled'</span>, \n",
       "<span style=\"color: #008000; text-decoration-color: #008000\">'blocks.6.ln2.ckpt_normalized'</span>, <span style=\"color: #008000; text-decoration-color: #008000\">'blocks.6.mlp.ckpt_pre'</span>, <span style=\"color: #008000; text-decoration-color: #008000\">'blocks.6.mlp.ckpt_post'</span>, <span style=\"color: #008000; text-decoration-color: #008000\">'blocks.6.mlp.ckpt_mlp_out'</span>, \n",
       "<span style=\"color: #008000; text-decoration-color: #008000\">'blocks.6.resid_post'</span>, <span style=\"color: #008000; text-decoration-color: #008000\">'blocks.7.resid_pre'</span>, <span style=\"color: #008000; text-decoration-color: #008000\">'blocks.7.ln1.ckpt_scaled'</span>, <span style=\"color: #008000; text-decoration-color: #008000\">'blocks.7.ln1.ckpt_normalized'</span>, \n",
       "<span style=\"color: #008000; text-decoration-color: #008000\">'blocks.7.attn.ckpt_q'</span>, <span style=\"color: #008000; text-decoration-color: #008000\">'blocks.7.attn.ckpt_k'</span>, <span style=\"color: #008000; text-decoration-color: #008000\">'blocks.7.attn.ckpt_v'</span>, <span style=\"color: #008000; text-decoration-color: #008000\">'blocks.7.attn.ckpt_scores'</span>, \n",
       "<span style=\"color: #008000; text-decoration-color: #008000\">'blocks.7.attn.ckpt_pattern'</span>, <span style=\"color: #008000; text-decoration-color: #008000\">'blocks.7.attn.ckpt_z'</span>, <span style=\"color: #008000; text-decoration-color: #008000\">'blocks.7.attn.ckpt_attn_out'</span>, <span style=\"color: #008000; text-decoration-color: #008000\">'blocks.7.resid_mid'</span>, \n",
       "<span style=\"color: #008000; text-decoration-color: #008000\">'blocks.7.ln2.ckpt_scaled'</span>, <span style=\"color: #008000; text-decoration-color: #008000\">'blocks.7.ln2.ckpt_normalized'</span>, <span style=\"color: #008000; text-decoration-color: #008000\">'blocks.7.mlp.ckpt_pre'</span>, <span style=\"color: #008000; text-decoration-color: #008000\">'blocks.7.mlp.ckpt_post'</span>, \n",
       "<span style=\"color: #008000; text-decoration-color: #008000\">'blocks.7.mlp.ckpt_mlp_out'</span>, <span style=\"color: #008000; text-decoration-color: #008000\">'blocks.7.resid_post'</span>, <span style=\"color: #008000; text-decoration-color: #008000\">'blocks.8.resid_pre'</span>, <span style=\"color: #008000; text-decoration-color: #008000\">'blocks.8.ln1.ckpt_scaled'</span>, \n",
       "<span style=\"color: #008000; text-decoration-color: #008000\">'blocks.8.ln1.ckpt_normalized'</span>, <span style=\"color: #008000; text-decoration-color: #008000\">'blocks.8.attn.ckpt_q'</span>, <span style=\"color: #008000; text-decoration-color: #008000\">'blocks.8.attn.ckpt_k'</span>, <span style=\"color: #008000; text-decoration-color: #008000\">'blocks.8.attn.ckpt_v'</span>, \n",
       "<span style=\"color: #008000; text-decoration-color: #008000\">'blocks.8.attn.ckpt_scores'</span>, <span style=\"color: #008000; text-decoration-color: #008000\">'blocks.8.attn.ckpt_pattern'</span>, <span style=\"color: #008000; text-decoration-color: #008000\">'blocks.8.attn.ckpt_z'</span>, <span style=\"color: #008000; text-decoration-color: #008000\">'blocks.8.attn.ckpt_attn_out'</span>, \n",
       "<span style=\"color: #008000; text-decoration-color: #008000\">'blocks.8.resid_mid'</span>, <span style=\"color: #008000; text-decoration-color: #008000\">'blocks.8.ln2.ckpt_scaled'</span>, <span style=\"color: #008000; text-decoration-color: #008000\">'blocks.8.ln2.ckpt_normalized'</span>, <span style=\"color: #008000; text-decoration-color: #008000\">'blocks.8.mlp.ckpt_pre'</span>, \n",
       "<span style=\"color: #008000; text-decoration-color: #008000\">'blocks.8.mlp.ckpt_post'</span>, <span style=\"color: #008000; text-decoration-color: #008000\">'blocks.8.mlp.ckpt_mlp_out'</span>, <span style=\"color: #008000; text-decoration-color: #008000\">'blocks.8.resid_post'</span>, <span style=\"color: #008000; text-decoration-color: #008000\">'blocks.9.resid_pre'</span>, \n",
       "<span style=\"color: #008000; text-decoration-color: #008000\">'blocks.9.ln1.ckpt_scaled'</span>, <span style=\"color: #008000; text-decoration-color: #008000\">'blocks.9.ln1.ckpt_normalized'</span>, <span style=\"color: #008000; text-decoration-color: #008000\">'blocks.9.attn.ckpt_q'</span>, <span style=\"color: #008000; text-decoration-color: #008000\">'blocks.9.attn.ckpt_k'</span>, \n",
       "<span style=\"color: #008000; text-decoration-color: #008000\">'blocks.9.attn.ckpt_v'</span>, <span style=\"color: #008000; text-decoration-color: #008000\">'blocks.9.attn.ckpt_scores'</span>, <span style=\"color: #008000; text-decoration-color: #008000\">'blocks.9.attn.ckpt_pattern'</span>, <span style=\"color: #008000; text-decoration-color: #008000\">'blocks.9.attn.ckpt_z'</span>, \n",
       "<span style=\"color: #008000; text-decoration-color: #008000\">'blocks.9.attn.ckpt_attn_out'</span>, <span style=\"color: #008000; text-decoration-color: #008000\">'blocks.9.resid_mid'</span>, <span style=\"color: #008000; text-decoration-color: #008000\">'blocks.9.ln2.ckpt_scaled'</span>, <span style=\"color: #008000; text-decoration-color: #008000\">'blocks.9.ln2.ckpt_normalized'</span>, \n",
       "<span style=\"color: #008000; text-decoration-color: #008000\">'blocks.9.mlp.ckpt_pre'</span>, <span style=\"color: #008000; text-decoration-color: #008000\">'blocks.9.mlp.ckpt_post'</span>, <span style=\"color: #008000; text-decoration-color: #008000\">'blocks.9.mlp.ckpt_mlp_out'</span>, <span style=\"color: #008000; text-decoration-color: #008000\">'blocks.9.resid_post'</span>, \n",
       "<span style=\"color: #008000; text-decoration-color: #008000\">'blocks.10.resid_pre'</span>, <span style=\"color: #008000; text-decoration-color: #008000\">'blocks.10.ln1.ckpt_scaled'</span>, <span style=\"color: #008000; text-decoration-color: #008000\">'blocks.10.ln1.ckpt_normalized'</span>, <span style=\"color: #008000; text-decoration-color: #008000\">'blocks.10.attn.ckpt_q'</span>, \n",
       "<span style=\"color: #008000; text-decoration-color: #008000\">'blocks.10.attn.ckpt_k'</span>, <span style=\"color: #008000; text-decoration-color: #008000\">'blocks.10.attn.ckpt_v'</span>, <span style=\"color: #008000; text-decoration-color: #008000\">'blocks.10.attn.ckpt_scores'</span>, <span style=\"color: #008000; text-decoration-color: #008000\">'blocks.10.attn.ckpt_pattern'</span>, \n",
       "<span style=\"color: #008000; text-decoration-color: #008000\">'blocks.10.attn.ckpt_z'</span>, <span style=\"color: #008000; text-decoration-color: #008000\">'blocks.10.attn.ckpt_attn_out'</span>, <span style=\"color: #008000; text-decoration-color: #008000\">'blocks.10.resid_mid'</span>, <span style=\"color: #008000; text-decoration-color: #008000\">'blocks.10.ln2.ckpt_scaled'</span>, \n",
       "<span style=\"color: #008000; text-decoration-color: #008000\">'blocks.10.ln2.ckpt_normalized'</span>, <span style=\"color: #008000; text-decoration-color: #008000\">'blocks.10.mlp.ckpt_pre'</span>, <span style=\"color: #008000; text-decoration-color: #008000\">'blocks.10.mlp.ckpt_post'</span>, <span style=\"color: #008000; text-decoration-color: #008000\">'blocks.10.mlp.ckpt_mlp_out'</span>,\n",
       "<span style=\"color: #008000; text-decoration-color: #008000\">'blocks.10.resid_post'</span>, <span style=\"color: #008000; text-decoration-color: #008000\">'blocks.11.resid_pre'</span>, <span style=\"color: #008000; text-decoration-color: #008000\">'blocks.11.ln1.ckpt_scaled'</span>, <span style=\"color: #008000; text-decoration-color: #008000\">'blocks.11.ln1.ckpt_normalized'</span>, \n",
       "<span style=\"color: #008000; text-decoration-color: #008000\">'blocks.11.attn.ckpt_q'</span>, <span style=\"color: #008000; text-decoration-color: #008000\">'blocks.11.attn.ckpt_k'</span>, <span style=\"color: #008000; text-decoration-color: #008000\">'blocks.11.attn.ckpt_v'</span>, <span style=\"color: #008000; text-decoration-color: #008000\">'blocks.11.attn.ckpt_scores'</span>, \n",
       "<span style=\"color: #008000; text-decoration-color: #008000\">'blocks.11.attn.ckpt_pattern'</span>, <span style=\"color: #008000; text-decoration-color: #008000\">'blocks.11.attn.ckpt_z'</span>, <span style=\"color: #008000; text-decoration-color: #008000\">'blocks.11.attn.ckpt_attn_out'</span>, <span style=\"color: #008000; text-decoration-color: #008000\">'blocks.11.resid_mid'</span>, \n",
       "<span style=\"color: #008000; text-decoration-color: #008000\">'blocks.11.ln2.ckpt_scaled'</span>, <span style=\"color: #008000; text-decoration-color: #008000\">'blocks.11.ln2.ckpt_normalized'</span>, <span style=\"color: #008000; text-decoration-color: #008000\">'blocks.11.mlp.ckpt_pre'</span>, <span style=\"color: #008000; text-decoration-color: #008000\">'blocks.11.mlp.ckpt_post'</span>, \n",
       "<span style=\"color: #008000; text-decoration-color: #008000\">'blocks.11.mlp.ckpt_mlp_out'</span>, <span style=\"color: #008000; text-decoration-color: #008000\">'blocks.11.resid_post'</span>, <span style=\"color: #008000; text-decoration-color: #008000\">'ln_final.ckpt_scaled'</span>, <span style=\"color: #008000; text-decoration-color: #008000\">'ln_final.ckpt_normalized'</span><span style=\"font-weight: bold\">])</span>\n",
       "</pre>\n"
      ],
      "text/plain": [
       "\u001b[1;35mdict_keys\u001b[0m\u001b[1m(\u001b[0m\u001b[1m[\u001b[0m\u001b[32m'ckpt_embed'\u001b[0m, \u001b[32m'ckpt_pos_embed'\u001b[0m, \u001b[32m'blocks.0.resid_pre'\u001b[0m, \u001b[32m'blocks.0.ln1.ckpt_scaled'\u001b[0m, \n",
       "\u001b[32m'blocks.0.ln1.ckpt_normalized'\u001b[0m, \u001b[32m'blocks.0.attn.ckpt_q'\u001b[0m, \u001b[32m'blocks.0.attn.ckpt_k'\u001b[0m, \u001b[32m'blocks.0.attn.ckpt_v'\u001b[0m, \n",
       "\u001b[32m'blocks.0.attn.ckpt_scores'\u001b[0m, \u001b[32m'blocks.0.attn.ckpt_pattern'\u001b[0m, \u001b[32m'blocks.0.attn.ckpt_z'\u001b[0m, \u001b[32m'blocks.0.attn.ckpt_attn_out'\u001b[0m, \n",
       "\u001b[32m'blocks.0.resid_mid'\u001b[0m, \u001b[32m'blocks.0.ln2.ckpt_scaled'\u001b[0m, \u001b[32m'blocks.0.ln2.ckpt_normalized'\u001b[0m, \u001b[32m'blocks.0.mlp.ckpt_pre'\u001b[0m, \n",
       "\u001b[32m'blocks.0.mlp.ckpt_post'\u001b[0m, \u001b[32m'blocks.0.mlp.ckpt_mlp_out'\u001b[0m, \u001b[32m'blocks.0.resid_post'\u001b[0m, \u001b[32m'blocks.1.resid_pre'\u001b[0m, \n",
       "\u001b[32m'blocks.1.ln1.ckpt_scaled'\u001b[0m, \u001b[32m'blocks.1.ln1.ckpt_normalized'\u001b[0m, \u001b[32m'blocks.1.attn.ckpt_q'\u001b[0m, \u001b[32m'blocks.1.attn.ckpt_k'\u001b[0m, \n",
       "\u001b[32m'blocks.1.attn.ckpt_v'\u001b[0m, \u001b[32m'blocks.1.attn.ckpt_scores'\u001b[0m, \u001b[32m'blocks.1.attn.ckpt_pattern'\u001b[0m, \u001b[32m'blocks.1.attn.ckpt_z'\u001b[0m, \n",
       "\u001b[32m'blocks.1.attn.ckpt_attn_out'\u001b[0m, \u001b[32m'blocks.1.resid_mid'\u001b[0m, \u001b[32m'blocks.1.ln2.ckpt_scaled'\u001b[0m, \u001b[32m'blocks.1.ln2.ckpt_normalized'\u001b[0m, \n",
       "\u001b[32m'blocks.1.mlp.ckpt_pre'\u001b[0m, \u001b[32m'blocks.1.mlp.ckpt_post'\u001b[0m, \u001b[32m'blocks.1.mlp.ckpt_mlp_out'\u001b[0m, \u001b[32m'blocks.1.resid_post'\u001b[0m, \n",
       "\u001b[32m'blocks.2.resid_pre'\u001b[0m, \u001b[32m'blocks.2.ln1.ckpt_scaled'\u001b[0m, \u001b[32m'blocks.2.ln1.ckpt_normalized'\u001b[0m, \u001b[32m'blocks.2.attn.ckpt_q'\u001b[0m, \n",
       "\u001b[32m'blocks.2.attn.ckpt_k'\u001b[0m, \u001b[32m'blocks.2.attn.ckpt_v'\u001b[0m, \u001b[32m'blocks.2.attn.ckpt_scores'\u001b[0m, \u001b[32m'blocks.2.attn.ckpt_pattern'\u001b[0m, \n",
       "\u001b[32m'blocks.2.attn.ckpt_z'\u001b[0m, \u001b[32m'blocks.2.attn.ckpt_attn_out'\u001b[0m, \u001b[32m'blocks.2.resid_mid'\u001b[0m, \u001b[32m'blocks.2.ln2.ckpt_scaled'\u001b[0m, \n",
       "\u001b[32m'blocks.2.ln2.ckpt_normalized'\u001b[0m, \u001b[32m'blocks.2.mlp.ckpt_pre'\u001b[0m, \u001b[32m'blocks.2.mlp.ckpt_post'\u001b[0m, \u001b[32m'blocks.2.mlp.ckpt_mlp_out'\u001b[0m, \n",
       "\u001b[32m'blocks.2.resid_post'\u001b[0m, \u001b[32m'blocks.3.resid_pre'\u001b[0m, \u001b[32m'blocks.3.ln1.ckpt_scaled'\u001b[0m, \u001b[32m'blocks.3.ln1.ckpt_normalized'\u001b[0m, \n",
       "\u001b[32m'blocks.3.attn.ckpt_q'\u001b[0m, \u001b[32m'blocks.3.attn.ckpt_k'\u001b[0m, \u001b[32m'blocks.3.attn.ckpt_v'\u001b[0m, \u001b[32m'blocks.3.attn.ckpt_scores'\u001b[0m, \n",
       "\u001b[32m'blocks.3.attn.ckpt_pattern'\u001b[0m, \u001b[32m'blocks.3.attn.ckpt_z'\u001b[0m, \u001b[32m'blocks.3.attn.ckpt_attn_out'\u001b[0m, \u001b[32m'blocks.3.resid_mid'\u001b[0m, \n",
       "\u001b[32m'blocks.3.ln2.ckpt_scaled'\u001b[0m, \u001b[32m'blocks.3.ln2.ckpt_normalized'\u001b[0m, \u001b[32m'blocks.3.mlp.ckpt_pre'\u001b[0m, \u001b[32m'blocks.3.mlp.ckpt_post'\u001b[0m, \n",
       "\u001b[32m'blocks.3.mlp.ckpt_mlp_out'\u001b[0m, \u001b[32m'blocks.3.resid_post'\u001b[0m, \u001b[32m'blocks.4.resid_pre'\u001b[0m, \u001b[32m'blocks.4.ln1.ckpt_scaled'\u001b[0m, \n",
       "\u001b[32m'blocks.4.ln1.ckpt_normalized'\u001b[0m, \u001b[32m'blocks.4.attn.ckpt_q'\u001b[0m, \u001b[32m'blocks.4.attn.ckpt_k'\u001b[0m, \u001b[32m'blocks.4.attn.ckpt_v'\u001b[0m, \n",
       "\u001b[32m'blocks.4.attn.ckpt_scores'\u001b[0m, \u001b[32m'blocks.4.attn.ckpt_pattern'\u001b[0m, \u001b[32m'blocks.4.attn.ckpt_z'\u001b[0m, \u001b[32m'blocks.4.attn.ckpt_attn_out'\u001b[0m, \n",
       "\u001b[32m'blocks.4.resid_mid'\u001b[0m, \u001b[32m'blocks.4.ln2.ckpt_scaled'\u001b[0m, \u001b[32m'blocks.4.ln2.ckpt_normalized'\u001b[0m, \u001b[32m'blocks.4.mlp.ckpt_pre'\u001b[0m, \n",
       "\u001b[32m'blocks.4.mlp.ckpt_post'\u001b[0m, \u001b[32m'blocks.4.mlp.ckpt_mlp_out'\u001b[0m, \u001b[32m'blocks.4.resid_post'\u001b[0m, \u001b[32m'blocks.5.resid_pre'\u001b[0m, \n",
       "\u001b[32m'blocks.5.ln1.ckpt_scaled'\u001b[0m, \u001b[32m'blocks.5.ln1.ckpt_normalized'\u001b[0m, \u001b[32m'blocks.5.attn.ckpt_q'\u001b[0m, \u001b[32m'blocks.5.attn.ckpt_k'\u001b[0m, \n",
       "\u001b[32m'blocks.5.attn.ckpt_v'\u001b[0m, \u001b[32m'blocks.5.attn.ckpt_scores'\u001b[0m, \u001b[32m'blocks.5.attn.ckpt_pattern'\u001b[0m, \u001b[32m'blocks.5.attn.ckpt_z'\u001b[0m, \n",
       "\u001b[32m'blocks.5.attn.ckpt_attn_out'\u001b[0m, \u001b[32m'blocks.5.resid_mid'\u001b[0m, \u001b[32m'blocks.5.ln2.ckpt_scaled'\u001b[0m, \u001b[32m'blocks.5.ln2.ckpt_normalized'\u001b[0m, \n",
       "\u001b[32m'blocks.5.mlp.ckpt_pre'\u001b[0m, \u001b[32m'blocks.5.mlp.ckpt_post'\u001b[0m, \u001b[32m'blocks.5.mlp.ckpt_mlp_out'\u001b[0m, \u001b[32m'blocks.5.resid_post'\u001b[0m, \n",
       "\u001b[32m'blocks.6.resid_pre'\u001b[0m, \u001b[32m'blocks.6.ln1.ckpt_scaled'\u001b[0m, \u001b[32m'blocks.6.ln1.ckpt_normalized'\u001b[0m, \u001b[32m'blocks.6.attn.ckpt_q'\u001b[0m, \n",
       "\u001b[32m'blocks.6.attn.ckpt_k'\u001b[0m, \u001b[32m'blocks.6.attn.ckpt_v'\u001b[0m, \u001b[32m'blocks.6.attn.ckpt_scores'\u001b[0m, \u001b[32m'blocks.6.attn.ckpt_pattern'\u001b[0m, \n",
       "\u001b[32m'blocks.6.attn.ckpt_z'\u001b[0m, \u001b[32m'blocks.6.attn.ckpt_attn_out'\u001b[0m, \u001b[32m'blocks.6.resid_mid'\u001b[0m, \u001b[32m'blocks.6.ln2.ckpt_scaled'\u001b[0m, \n",
       "\u001b[32m'blocks.6.ln2.ckpt_normalized'\u001b[0m, \u001b[32m'blocks.6.mlp.ckpt_pre'\u001b[0m, \u001b[32m'blocks.6.mlp.ckpt_post'\u001b[0m, \u001b[32m'blocks.6.mlp.ckpt_mlp_out'\u001b[0m, \n",
       "\u001b[32m'blocks.6.resid_post'\u001b[0m, \u001b[32m'blocks.7.resid_pre'\u001b[0m, \u001b[32m'blocks.7.ln1.ckpt_scaled'\u001b[0m, \u001b[32m'blocks.7.ln1.ckpt_normalized'\u001b[0m, \n",
       "\u001b[32m'blocks.7.attn.ckpt_q'\u001b[0m, \u001b[32m'blocks.7.attn.ckpt_k'\u001b[0m, \u001b[32m'blocks.7.attn.ckpt_v'\u001b[0m, \u001b[32m'blocks.7.attn.ckpt_scores'\u001b[0m, \n",
       "\u001b[32m'blocks.7.attn.ckpt_pattern'\u001b[0m, \u001b[32m'blocks.7.attn.ckpt_z'\u001b[0m, \u001b[32m'blocks.7.attn.ckpt_attn_out'\u001b[0m, \u001b[32m'blocks.7.resid_mid'\u001b[0m, \n",
       "\u001b[32m'blocks.7.ln2.ckpt_scaled'\u001b[0m, \u001b[32m'blocks.7.ln2.ckpt_normalized'\u001b[0m, \u001b[32m'blocks.7.mlp.ckpt_pre'\u001b[0m, \u001b[32m'blocks.7.mlp.ckpt_post'\u001b[0m, \n",
       "\u001b[32m'blocks.7.mlp.ckpt_mlp_out'\u001b[0m, \u001b[32m'blocks.7.resid_post'\u001b[0m, \u001b[32m'blocks.8.resid_pre'\u001b[0m, \u001b[32m'blocks.8.ln1.ckpt_scaled'\u001b[0m, \n",
       "\u001b[32m'blocks.8.ln1.ckpt_normalized'\u001b[0m, \u001b[32m'blocks.8.attn.ckpt_q'\u001b[0m, \u001b[32m'blocks.8.attn.ckpt_k'\u001b[0m, \u001b[32m'blocks.8.attn.ckpt_v'\u001b[0m, \n",
       "\u001b[32m'blocks.8.attn.ckpt_scores'\u001b[0m, \u001b[32m'blocks.8.attn.ckpt_pattern'\u001b[0m, \u001b[32m'blocks.8.attn.ckpt_z'\u001b[0m, \u001b[32m'blocks.8.attn.ckpt_attn_out'\u001b[0m, \n",
       "\u001b[32m'blocks.8.resid_mid'\u001b[0m, \u001b[32m'blocks.8.ln2.ckpt_scaled'\u001b[0m, \u001b[32m'blocks.8.ln2.ckpt_normalized'\u001b[0m, \u001b[32m'blocks.8.mlp.ckpt_pre'\u001b[0m, \n",
       "\u001b[32m'blocks.8.mlp.ckpt_post'\u001b[0m, \u001b[32m'blocks.8.mlp.ckpt_mlp_out'\u001b[0m, \u001b[32m'blocks.8.resid_post'\u001b[0m, \u001b[32m'blocks.9.resid_pre'\u001b[0m, \n",
       "\u001b[32m'blocks.9.ln1.ckpt_scaled'\u001b[0m, \u001b[32m'blocks.9.ln1.ckpt_normalized'\u001b[0m, \u001b[32m'blocks.9.attn.ckpt_q'\u001b[0m, \u001b[32m'blocks.9.attn.ckpt_k'\u001b[0m, \n",
       "\u001b[32m'blocks.9.attn.ckpt_v'\u001b[0m, \u001b[32m'blocks.9.attn.ckpt_scores'\u001b[0m, \u001b[32m'blocks.9.attn.ckpt_pattern'\u001b[0m, \u001b[32m'blocks.9.attn.ckpt_z'\u001b[0m, \n",
       "\u001b[32m'blocks.9.attn.ckpt_attn_out'\u001b[0m, \u001b[32m'blocks.9.resid_mid'\u001b[0m, \u001b[32m'blocks.9.ln2.ckpt_scaled'\u001b[0m, \u001b[32m'blocks.9.ln2.ckpt_normalized'\u001b[0m, \n",
       "\u001b[32m'blocks.9.mlp.ckpt_pre'\u001b[0m, \u001b[32m'blocks.9.mlp.ckpt_post'\u001b[0m, \u001b[32m'blocks.9.mlp.ckpt_mlp_out'\u001b[0m, \u001b[32m'blocks.9.resid_post'\u001b[0m, \n",
       "\u001b[32m'blocks.10.resid_pre'\u001b[0m, \u001b[32m'blocks.10.ln1.ckpt_scaled'\u001b[0m, \u001b[32m'blocks.10.ln1.ckpt_normalized'\u001b[0m, \u001b[32m'blocks.10.attn.ckpt_q'\u001b[0m, \n",
       "\u001b[32m'blocks.10.attn.ckpt_k'\u001b[0m, \u001b[32m'blocks.10.attn.ckpt_v'\u001b[0m, \u001b[32m'blocks.10.attn.ckpt_scores'\u001b[0m, \u001b[32m'blocks.10.attn.ckpt_pattern'\u001b[0m, \n",
       "\u001b[32m'blocks.10.attn.ckpt_z'\u001b[0m, \u001b[32m'blocks.10.attn.ckpt_attn_out'\u001b[0m, \u001b[32m'blocks.10.resid_mid'\u001b[0m, \u001b[32m'blocks.10.ln2.ckpt_scaled'\u001b[0m, \n",
       "\u001b[32m'blocks.10.ln2.ckpt_normalized'\u001b[0m, \u001b[32m'blocks.10.mlp.ckpt_pre'\u001b[0m, \u001b[32m'blocks.10.mlp.ckpt_post'\u001b[0m, \u001b[32m'blocks.10.mlp.ckpt_mlp_out'\u001b[0m,\n",
       "\u001b[32m'blocks.10.resid_post'\u001b[0m, \u001b[32m'blocks.11.resid_pre'\u001b[0m, \u001b[32m'blocks.11.ln1.ckpt_scaled'\u001b[0m, \u001b[32m'blocks.11.ln1.ckpt_normalized'\u001b[0m, \n",
       "\u001b[32m'blocks.11.attn.ckpt_q'\u001b[0m, \u001b[32m'blocks.11.attn.ckpt_k'\u001b[0m, \u001b[32m'blocks.11.attn.ckpt_v'\u001b[0m, \u001b[32m'blocks.11.attn.ckpt_scores'\u001b[0m, \n",
       "\u001b[32m'blocks.11.attn.ckpt_pattern'\u001b[0m, \u001b[32m'blocks.11.attn.ckpt_z'\u001b[0m, \u001b[32m'blocks.11.attn.ckpt_attn_out'\u001b[0m, \u001b[32m'blocks.11.resid_mid'\u001b[0m, \n",
       "\u001b[32m'blocks.11.ln2.ckpt_scaled'\u001b[0m, \u001b[32m'blocks.11.ln2.ckpt_normalized'\u001b[0m, \u001b[32m'blocks.11.mlp.ckpt_pre'\u001b[0m, \u001b[32m'blocks.11.mlp.ckpt_post'\u001b[0m, \n",
       "\u001b[32m'blocks.11.mlp.ckpt_mlp_out'\u001b[0m, \u001b[32m'blocks.11.resid_post'\u001b[0m, \u001b[32m'ln_final.ckpt_scaled'\u001b[0m, \u001b[32m'ln_final.ckpt_normalized'\u001b[0m\u001b[1m]\u001b[0m\u001b[1m)\u001b[0m\n"
      ]
     },
     "metadata": {},
     "output_type": "display_data"
    }
   ],
   "source": [
    "print(cache.keys())"
   ]
  },
  {
   "cell_type": "code",
   "execution_count": 12,
   "metadata": {},
   "outputs": [
    {
     "data": {
      "text/plain": [
       "torch.Size([1, 3, 3072])"
      ]
     },
     "execution_count": 12,
     "metadata": {},
     "output_type": "execute_result"
    }
   ],
   "source": [
    "cache.get(act_name=\"pre\", layer_name=\"mlp\", block=0).shape"
   ]
  },
  {
   "cell_type": "code",
   "execution_count": null,
   "metadata": {},
   "outputs": [],
   "source": []
  }
 ],
 "metadata": {
  "kernelspec": {
   "display_name": "base",
   "language": "python",
   "name": "python3"
  },
  "language_info": {
   "codemirror_mode": {
    "name": "ipython",
    "version": 3
   },
   "file_extension": ".py",
   "mimetype": "text/x-python",
   "name": "python",
   "nbconvert_exporter": "python",
   "pygments_lexer": "ipython3",
   "version": "3.11.4"
  }
 },
 "nbformat": 4,
 "nbformat_minor": 2
}
